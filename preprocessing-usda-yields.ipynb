{
 "cells": [
  {
   "cell_type": "code",
   "execution_count": 33,
   "metadata": {},
   "outputs": [
    {
     "data": {
      "text/html": [
       "<ol class=list-inline>\n",
       "\t<li>'corn-grain.csv'</li>\n",
       "\t<li>'fips.csv'</li>\n",
       "\t<li>'usda-corn-yield-2011-2018.csv'</li>\n",
       "</ol>\n"
      ],
      "text/latex": [
       "\\begin{enumerate*}\n",
       "\\item 'corn-grain.csv'\n",
       "\\item 'fips.csv'\n",
       "\\item 'usda-corn-yield-2011-2018.csv'\n",
       "\\end{enumerate*}\n"
      ],
      "text/markdown": [
       "1. 'corn-grain.csv'\n",
       "2. 'fips.csv'\n",
       "3. 'usda-corn-yield-2011-2018.csv'\n",
       "\n",
       "\n"
      ],
      "text/plain": [
       "[1] \"corn-grain.csv\"                \"fips.csv\"                     \n",
       "[3] \"usda-corn-yield-2011-2018.csv\""
      ]
     },
     "metadata": {},
     "output_type": "display_data"
    }
   ],
   "source": [
    "dir('./data/')"
   ]
  },
  {
   "cell_type": "code",
   "execution_count": 34,
   "metadata": {},
   "outputs": [],
   "source": [
    "corn_yield=read.csv('./data/usda-corn-yield-2011-2018.csv')"
   ]
  },
  {
   "cell_type": "code",
   "execution_count": 35,
   "metadata": {},
   "outputs": [
    {
     "data": {
      "text/html": [
       "<table>\n",
       "<thead><tr><th scope=col>Program</th><th scope=col>Year</th><th scope=col>Period</th><th scope=col>Week.Ending</th><th scope=col>Geo.Level</th><th scope=col>State</th><th scope=col>State.ANSI</th><th scope=col>Ag.District</th><th scope=col>Ag.District.Code</th><th scope=col>County</th><th scope=col>⋯</th><th scope=col>CORN...ACRES.PLANTED</th><th scope=col>CORN...ACRES.PLANTED.....CV....</th><th scope=col>CORN..GRAIN...ACRES.HARVESTED</th><th scope=col>CORN..GRAIN...ACRES.HARVESTED.....CV....</th><th scope=col>CORN..GRAIN...YIELD..MEASURED.IN.BU...ACRE</th><th scope=col>CORN..GRAIN...YIELD..MEASURED.IN.BU...ACRE.....CV....</th><th scope=col>CORN..SILAGE...ACRES.HARVESTED</th><th scope=col>CORN..SILAGE...ACRES.HARVESTED.....CV....</th><th scope=col>CORN..SILAGE...YIELD..MEASURED.IN.TONS...ACRE</th><th scope=col>CORN..SILAGE...YIELD..MEASURED.IN.TONS...ACRE.....CV....</th></tr></thead>\n",
       "<tbody>\n",
       "\t<tr><td>SURVEY                     </td><td>2018                       </td><td>YEAR                       </td><td>NA                         </td><td>COUNTY                     </td><td>ALABAMA                    </td><td>1                          </td><td>BLACK BELT                 </td><td>40                         </td><td>AUTAUGA                    </td><td>⋯                          </td><td> 1100                      </td><td>NA                         </td><td> 1000                      </td><td>NA                         </td><td>165.0                      </td><td>NA                         </td><td>NA                         </td><td>NA                         </td><td>NA                         </td><td>NA                         </td></tr>\n",
       "\t<tr><td>SURVEY                     </td><td>2018                       </td><td>YEAR                       </td><td>NA                         </td><td>COUNTY                     </td><td>ALABAMA                    </td><td>1                          </td><td>BLACK BELT                 </td><td>40                         </td><td>DALLAS                     </td><td>⋯                          </td><td> 5400                      </td><td>NA                         </td><td> 5100                      </td><td>NA                         </td><td>137.3                      </td><td>NA                         </td><td>NA                         </td><td>NA                         </td><td>NA                         </td><td>NA                         </td></tr>\n",
       "\t<tr><td>SURVEY                     </td><td>2018                       </td><td>YEAR                       </td><td>NA                         </td><td>COUNTY                     </td><td>ALABAMA                    </td><td>1                          </td><td>BLACK BELT                 </td><td>40                         </td><td>ELMORE                     </td><td>⋯                          </td><td> 2200                      </td><td>NA                         </td><td> 2200                      </td><td>NA                         </td><td>170.5                      </td><td>NA                         </td><td>NA                         </td><td>NA                         </td><td>NA                         </td><td>NA                         </td></tr>\n",
       "\t<tr><td>SURVEY                     </td><td>2018                       </td><td>YEAR                       </td><td>NA                         </td><td>COUNTY                     </td><td>ALABAMA                    </td><td>1                          </td><td>BLACK BELT                 </td><td>40                         </td><td>OTHER (COMBINED) COUNTIES  </td><td>⋯                          </td><td>15900                      </td><td>NA                         </td><td>14900                      </td><td>NA                         </td><td>155.8                      </td><td>NA                         </td><td>NA                         </td><td>NA                         </td><td>NA                         </td><td>NA                         </td></tr>\n",
       "\t<tr><td>SURVEY                     </td><td>2018                       </td><td>YEAR                       </td><td>NA                         </td><td>COUNTY                     </td><td>ALABAMA                    </td><td>1                          </td><td>BLACK BELT                 </td><td>40                         </td><td>PERRY                      </td><td>⋯                          </td><td> 6400                      </td><td>NA                         </td><td> 6300                      </td><td>NA                         </td><td>145.2                      </td><td>NA                         </td><td>NA                         </td><td>NA                         </td><td>NA                         </td><td>NA                         </td></tr>\n",
       "\t<tr><td>SURVEY                                                           </td><td>2018                                                             </td><td>YEAR                                                             </td><td>NA                                                               </td><td>COUNTY                                                           </td><td>ALABAMA                                                          </td><td>1                                                                </td><td>COASTAL PLAINS &amp; GULF COAST                                  </td><td>50                                                               </td><td><span style=white-space:pre-wrap>BALDWIN                  </span></td><td>⋯                                                                </td><td> 7200                                                            </td><td>NA                                                               </td><td> 7000                                                            </td><td>NA                                                               </td><td>152.0                                                            </td><td>NA                                                               </td><td>NA                                                               </td><td>NA                                                               </td><td>NA                                                               </td><td>NA                                                               </td></tr>\n",
       "</tbody>\n",
       "</table>\n"
      ],
      "text/latex": [
       "\\begin{tabular}{r|llllllllllllllllllllllllllll}\n",
       " Program & Year & Period & Week.Ending & Geo.Level & State & State.ANSI & Ag.District & Ag.District.Code & County & ⋯ & CORN...ACRES.PLANTED & CORN...ACRES.PLANTED.....CV.... & CORN..GRAIN...ACRES.HARVESTED & CORN..GRAIN...ACRES.HARVESTED.....CV.... & CORN..GRAIN...YIELD..MEASURED.IN.BU...ACRE & CORN..GRAIN...YIELD..MEASURED.IN.BU...ACRE.....CV.... & CORN..SILAGE...ACRES.HARVESTED & CORN..SILAGE...ACRES.HARVESTED.....CV.... & CORN..SILAGE...YIELD..MEASURED.IN.TONS...ACRE & CORN..SILAGE...YIELD..MEASURED.IN.TONS...ACRE.....CV....\\\\\n",
       "\\hline\n",
       "\t SURVEY                      & 2018                        & YEAR                        & NA                          & COUNTY                      & ALABAMA                     & 1                           & BLACK BELT                  & 40                          & AUTAUGA                     & ⋯                           &  1100                       & NA                          &  1000                       & NA                          & 165.0                       & NA                          & NA                          & NA                          & NA                          & NA                         \\\\\n",
       "\t SURVEY                      & 2018                        & YEAR                        & NA                          & COUNTY                      & ALABAMA                     & 1                           & BLACK BELT                  & 40                          & DALLAS                      & ⋯                           &  5400                       & NA                          &  5100                       & NA                          & 137.3                       & NA                          & NA                          & NA                          & NA                          & NA                         \\\\\n",
       "\t SURVEY                      & 2018                        & YEAR                        & NA                          & COUNTY                      & ALABAMA                     & 1                           & BLACK BELT                  & 40                          & ELMORE                      & ⋯                           &  2200                       & NA                          &  2200                       & NA                          & 170.5                       & NA                          & NA                          & NA                          & NA                          & NA                         \\\\\n",
       "\t SURVEY                      & 2018                        & YEAR                        & NA                          & COUNTY                      & ALABAMA                     & 1                           & BLACK BELT                  & 40                          & OTHER (COMBINED) COUNTIES   & ⋯                           & 15900                       & NA                          & 14900                       & NA                          & 155.8                       & NA                          & NA                          & NA                          & NA                          & NA                         \\\\\n",
       "\t SURVEY                      & 2018                        & YEAR                        & NA                          & COUNTY                      & ALABAMA                     & 1                           & BLACK BELT                  & 40                          & PERRY                       & ⋯                           &  6400                       & NA                          &  6300                       & NA                          & 145.2                       & NA                          & NA                          & NA                          & NA                          & NA                         \\\\\n",
       "\t SURVEY                        & 2018                          & YEAR                          & NA                            & COUNTY                        & ALABAMA                       & 1                             & COASTAL PLAINS \\& GULF COAST & 50                            & BALDWIN                       & ⋯                             &  7200                         & NA                            &  7000                         & NA                            & 152.0                         & NA                            & NA                            & NA                            & NA                            & NA                           \\\\\n",
       "\\end{tabular}\n"
      ],
      "text/markdown": [
       "\n",
       "| Program | Year | Period | Week.Ending | Geo.Level | State | State.ANSI | Ag.District | Ag.District.Code | County | ⋯ | CORN...ACRES.PLANTED | CORN...ACRES.PLANTED.....CV.... | CORN..GRAIN...ACRES.HARVESTED | CORN..GRAIN...ACRES.HARVESTED.....CV.... | CORN..GRAIN...YIELD..MEASURED.IN.BU...ACRE | CORN..GRAIN...YIELD..MEASURED.IN.BU...ACRE.....CV.... | CORN..SILAGE...ACRES.HARVESTED | CORN..SILAGE...ACRES.HARVESTED.....CV.... | CORN..SILAGE...YIELD..MEASURED.IN.TONS...ACRE | CORN..SILAGE...YIELD..MEASURED.IN.TONS...ACRE.....CV.... |\n",
       "|---|---|---|---|---|---|---|---|---|---|---|---|---|---|---|---|---|---|---|---|---|\n",
       "| SURVEY                      | 2018                        | YEAR                        | NA                          | COUNTY                      | ALABAMA                     | 1                           | BLACK BELT                  | 40                          | AUTAUGA                     | ⋯                           |  1100                       | NA                          |  1000                       | NA                          | 165.0                       | NA                          | NA                          | NA                          | NA                          | NA                          |\n",
       "| SURVEY                      | 2018                        | YEAR                        | NA                          | COUNTY                      | ALABAMA                     | 1                           | BLACK BELT                  | 40                          | DALLAS                      | ⋯                           |  5400                       | NA                          |  5100                       | NA                          | 137.3                       | NA                          | NA                          | NA                          | NA                          | NA                          |\n",
       "| SURVEY                      | 2018                        | YEAR                        | NA                          | COUNTY                      | ALABAMA                     | 1                           | BLACK BELT                  | 40                          | ELMORE                      | ⋯                           |  2200                       | NA                          |  2200                       | NA                          | 170.5                       | NA                          | NA                          | NA                          | NA                          | NA                          |\n",
       "| SURVEY                      | 2018                        | YEAR                        | NA                          | COUNTY                      | ALABAMA                     | 1                           | BLACK BELT                  | 40                          | OTHER (COMBINED) COUNTIES   | ⋯                           | 15900                       | NA                          | 14900                       | NA                          | 155.8                       | NA                          | NA                          | NA                          | NA                          | NA                          |\n",
       "| SURVEY                      | 2018                        | YEAR                        | NA                          | COUNTY                      | ALABAMA                     | 1                           | BLACK BELT                  | 40                          | PERRY                       | ⋯                           |  6400                       | NA                          |  6300                       | NA                          | 145.2                       | NA                          | NA                          | NA                          | NA                          | NA                          |\n",
       "| SURVEY                      | 2018                        | YEAR                        | NA                          | COUNTY                      | ALABAMA                     | 1                           | COASTAL PLAINS & GULF COAST | 50                          | BALDWIN                     | ⋯                           |  7200                       | NA                          |  7000                       | NA                          | 152.0                       | NA                          | NA                          | NA                          | NA                          | NA                          |\n",
       "\n"
      ],
      "text/plain": [
       "  Program Year Period Week.Ending Geo.Level State   State.ANSI\n",
       "1 SURVEY  2018 YEAR   NA          COUNTY    ALABAMA 1         \n",
       "2 SURVEY  2018 YEAR   NA          COUNTY    ALABAMA 1         \n",
       "3 SURVEY  2018 YEAR   NA          COUNTY    ALABAMA 1         \n",
       "4 SURVEY  2018 YEAR   NA          COUNTY    ALABAMA 1         \n",
       "5 SURVEY  2018 YEAR   NA          COUNTY    ALABAMA 1         \n",
       "6 SURVEY  2018 YEAR   NA          COUNTY    ALABAMA 1         \n",
       "  Ag.District                 Ag.District.Code County                    ⋯\n",
       "1 BLACK BELT                  40               AUTAUGA                   ⋯\n",
       "2 BLACK BELT                  40               DALLAS                    ⋯\n",
       "3 BLACK BELT                  40               ELMORE                    ⋯\n",
       "4 BLACK BELT                  40               OTHER (COMBINED) COUNTIES ⋯\n",
       "5 BLACK BELT                  40               PERRY                     ⋯\n",
       "6 COASTAL PLAINS & GULF COAST 50               BALDWIN                   ⋯\n",
       "  CORN...ACRES.PLANTED CORN...ACRES.PLANTED.....CV....\n",
       "1  1100                NA                             \n",
       "2  5400                NA                             \n",
       "3  2200                NA                             \n",
       "4 15900                NA                             \n",
       "5  6400                NA                             \n",
       "6  7200                NA                             \n",
       "  CORN..GRAIN...ACRES.HARVESTED CORN..GRAIN...ACRES.HARVESTED.....CV....\n",
       "1  1000                         NA                                      \n",
       "2  5100                         NA                                      \n",
       "3  2200                         NA                                      \n",
       "4 14900                         NA                                      \n",
       "5  6300                         NA                                      \n",
       "6  7000                         NA                                      \n",
       "  CORN..GRAIN...YIELD..MEASURED.IN.BU...ACRE\n",
       "1 165.0                                     \n",
       "2 137.3                                     \n",
       "3 170.5                                     \n",
       "4 155.8                                     \n",
       "5 145.2                                     \n",
       "6 152.0                                     \n",
       "  CORN..GRAIN...YIELD..MEASURED.IN.BU...ACRE.....CV....\n",
       "1 NA                                                   \n",
       "2 NA                                                   \n",
       "3 NA                                                   \n",
       "4 NA                                                   \n",
       "5 NA                                                   \n",
       "6 NA                                                   \n",
       "  CORN..SILAGE...ACRES.HARVESTED CORN..SILAGE...ACRES.HARVESTED.....CV....\n",
       "1 NA                             NA                                       \n",
       "2 NA                             NA                                       \n",
       "3 NA                             NA                                       \n",
       "4 NA                             NA                                       \n",
       "5 NA                             NA                                       \n",
       "6 NA                             NA                                       \n",
       "  CORN..SILAGE...YIELD..MEASURED.IN.TONS...ACRE\n",
       "1 NA                                           \n",
       "2 NA                                           \n",
       "3 NA                                           \n",
       "4 NA                                           \n",
       "5 NA                                           \n",
       "6 NA                                           \n",
       "  CORN..SILAGE...YIELD..MEASURED.IN.TONS...ACRE.....CV....\n",
       "1 NA                                                      \n",
       "2 NA                                                      \n",
       "3 NA                                                      \n",
       "4 NA                                                      \n",
       "5 NA                                                      \n",
       "6 NA                                                      "
      ]
     },
     "metadata": {},
     "output_type": "display_data"
    }
   ],
   "source": [
    "head(corn_yield)"
   ]
  },
  {
   "cell_type": "code",
   "execution_count": 36,
   "metadata": {},
   "outputs": [
    {
     "name": "stdout",
     "output_type": "stream",
     "text": [
      "'data.frame':\t13963 obs. of  28 variables:\n",
      " $ Program                                                 : Factor w/ 1 level \"SURVEY\": 1 1 1 1 1 1 1 1 1 1 ...\n",
      " $ Year                                                    : int  2018 2018 2018 2018 2018 2018 2018 2018 2018 2018 ...\n",
      " $ Period                                                  : Factor w/ 1 level \"YEAR\": 1 1 1 1 1 1 1 1 1 1 ...\n",
      " $ Week.Ending                                             : logi  NA NA NA NA NA NA ...\n",
      " $ Geo.Level                                               : Factor w/ 1 level \"COUNTY\": 1 1 1 1 1 1 1 1 1 1 ...\n",
      " $ State                                                   : Factor w/ 37 levels \"ALABAMA\",\"ARKANSAS\",..: 1 1 1 1 1 1 1 1 1 1 ...\n",
      " $ State.ANSI                                              : int  1 1 1 1 1 1 1 1 1 1 ...\n",
      " $ Ag.District                                             : Factor w/ 74 levels \"BLACK BELT\",\"BLACKLANDS\",..: 1 1 1 1 1 10 10 10 10 10 ...\n",
      " $ Ag.District.Code                                        : int  40 40 40 40 40 50 50 50 50 50 ...\n",
      " $ County                                                  : Factor w/ 1229 levels \"ACCOMACK\",\"ADA\",..: 50 305 376 841 874 56 270 381 758 841 ...\n",
      " $ County.ANSI                                             : int  1 47 51 NA 105 3 35 53 99 NA ...\n",
      " $ Zip.Code                                                : logi  NA NA NA NA NA NA ...\n",
      " $ Region                                                  : logi  NA NA NA NA NA NA ...\n",
      " $ watershed_code                                          : int  0 0 0 0 0 0 0 0 0 0 ...\n",
      " $ Watershed                                               : logi  NA NA NA NA NA NA ...\n",
      " $ COMMODITY                                               : Factor w/ 1 level \"CORN\": 1 1 1 1 1 1 1 1 1 1 ...\n",
      " $ Domain                                                  : Factor w/ 1 level \"TOTAL\": 1 1 1 1 1 1 1 1 1 1 ...\n",
      " $ Domain.Category                                         : Factor w/ 1 level \"NOT SPECIFIED\": 1 1 1 1 1 1 1 1 1 1 ...\n",
      " $ CORN...ACRES.PLANTED                                    : int  1100 5400 2200 15900 6400 7200 900 2900 1700 5300 ...\n",
      " $ CORN...ACRES.PLANTED.....CV....                         : logi  NA NA NA NA NA NA ...\n",
      " $ CORN..GRAIN...ACRES.HARVESTED                           : int  1000 5100 2200 14900 6300 7000 800 2850 1650 4800 ...\n",
      " $ CORN..GRAIN...ACRES.HARVESTED.....CV....                : logi  NA NA NA NA NA NA ...\n",
      " $ CORN..GRAIN...YIELD..MEASURED.IN.BU...ACRE              : num  165 137 170 156 145 ...\n",
      " $ CORN..GRAIN...YIELD..MEASURED.IN.BU...ACRE.....CV....   : logi  NA NA NA NA NA NA ...\n",
      " $ CORN..SILAGE...ACRES.HARVESTED                          : int  NA NA NA NA NA NA NA NA NA NA ...\n",
      " $ CORN..SILAGE...ACRES.HARVESTED.....CV....               : logi  NA NA NA NA NA NA ...\n",
      " $ CORN..SILAGE...YIELD..MEASURED.IN.TONS...ACRE           : num  NA NA NA NA NA NA NA NA NA NA ...\n",
      " $ CORN..SILAGE...YIELD..MEASURED.IN.TONS...ACRE.....CV....: logi  NA NA NA NA NA NA ...\n"
     ]
    }
   ],
   "source": [
    "str(corn_yield)"
   ]
  },
  {
   "cell_type": "code",
   "execution_count": 37,
   "metadata": {},
   "outputs": [
    {
     "data": {
      "text/html": [
       "<ol class=list-inline>\n",
       "\t<li>'Program'</li>\n",
       "\t<li>'Year'</li>\n",
       "\t<li>'Period'</li>\n",
       "\t<li>'Week.Ending'</li>\n",
       "\t<li>'Geo.Level'</li>\n",
       "\t<li>'State'</li>\n",
       "\t<li>'State.ANSI'</li>\n",
       "\t<li>'Ag.District'</li>\n",
       "\t<li>'Ag.District.Code'</li>\n",
       "\t<li>'County'</li>\n",
       "\t<li>'County.ANSI'</li>\n",
       "\t<li>'Zip.Code'</li>\n",
       "\t<li>'Region'</li>\n",
       "\t<li>'watershed_code'</li>\n",
       "\t<li>'Watershed'</li>\n",
       "\t<li>'COMMODITY'</li>\n",
       "\t<li>'Domain'</li>\n",
       "\t<li>'Domain.Category'</li>\n",
       "\t<li>'CORN...ACRES.PLANTED'</li>\n",
       "\t<li>'CORN...ACRES.PLANTED.....CV....'</li>\n",
       "\t<li>'CORN..GRAIN...ACRES.HARVESTED'</li>\n",
       "\t<li>'CORN..GRAIN...ACRES.HARVESTED.....CV....'</li>\n",
       "\t<li>'CORN..GRAIN...YIELD..MEASURED.IN.BU...ACRE'</li>\n",
       "\t<li>'CORN..GRAIN...YIELD..MEASURED.IN.BU...ACRE.....CV....'</li>\n",
       "\t<li>'CORN..SILAGE...ACRES.HARVESTED'</li>\n",
       "\t<li>'CORN..SILAGE...ACRES.HARVESTED.....CV....'</li>\n",
       "\t<li>'CORN..SILAGE...YIELD..MEASURED.IN.TONS...ACRE'</li>\n",
       "\t<li>'CORN..SILAGE...YIELD..MEASURED.IN.TONS...ACRE.....CV....'</li>\n",
       "</ol>\n"
      ],
      "text/latex": [
       "\\begin{enumerate*}\n",
       "\\item 'Program'\n",
       "\\item 'Year'\n",
       "\\item 'Period'\n",
       "\\item 'Week.Ending'\n",
       "\\item 'Geo.Level'\n",
       "\\item 'State'\n",
       "\\item 'State.ANSI'\n",
       "\\item 'Ag.District'\n",
       "\\item 'Ag.District.Code'\n",
       "\\item 'County'\n",
       "\\item 'County.ANSI'\n",
       "\\item 'Zip.Code'\n",
       "\\item 'Region'\n",
       "\\item 'watershed\\_code'\n",
       "\\item 'Watershed'\n",
       "\\item 'COMMODITY'\n",
       "\\item 'Domain'\n",
       "\\item 'Domain.Category'\n",
       "\\item 'CORN...ACRES.PLANTED'\n",
       "\\item 'CORN...ACRES.PLANTED.....CV....'\n",
       "\\item 'CORN..GRAIN...ACRES.HARVESTED'\n",
       "\\item 'CORN..GRAIN...ACRES.HARVESTED.....CV....'\n",
       "\\item 'CORN..GRAIN...YIELD..MEASURED.IN.BU...ACRE'\n",
       "\\item 'CORN..GRAIN...YIELD..MEASURED.IN.BU...ACRE.....CV....'\n",
       "\\item 'CORN..SILAGE...ACRES.HARVESTED'\n",
       "\\item 'CORN..SILAGE...ACRES.HARVESTED.....CV....'\n",
       "\\item 'CORN..SILAGE...YIELD..MEASURED.IN.TONS...ACRE'\n",
       "\\item 'CORN..SILAGE...YIELD..MEASURED.IN.TONS...ACRE.....CV....'\n",
       "\\end{enumerate*}\n"
      ],
      "text/markdown": [
       "1. 'Program'\n",
       "2. 'Year'\n",
       "3. 'Period'\n",
       "4. 'Week.Ending'\n",
       "5. 'Geo.Level'\n",
       "6. 'State'\n",
       "7. 'State.ANSI'\n",
       "8. 'Ag.District'\n",
       "9. 'Ag.District.Code'\n",
       "10. 'County'\n",
       "11. 'County.ANSI'\n",
       "12. 'Zip.Code'\n",
       "13. 'Region'\n",
       "14. 'watershed_code'\n",
       "15. 'Watershed'\n",
       "16. 'COMMODITY'\n",
       "17. 'Domain'\n",
       "18. 'Domain.Category'\n",
       "19. 'CORN...ACRES.PLANTED'\n",
       "20. 'CORN...ACRES.PLANTED.....CV....'\n",
       "21. 'CORN..GRAIN...ACRES.HARVESTED'\n",
       "22. 'CORN..GRAIN...ACRES.HARVESTED.....CV....'\n",
       "23. 'CORN..GRAIN...YIELD..MEASURED.IN.BU...ACRE'\n",
       "24. 'CORN..GRAIN...YIELD..MEASURED.IN.BU...ACRE.....CV....'\n",
       "25. 'CORN..SILAGE...ACRES.HARVESTED'\n",
       "26. 'CORN..SILAGE...ACRES.HARVESTED.....CV....'\n",
       "27. 'CORN..SILAGE...YIELD..MEASURED.IN.TONS...ACRE'\n",
       "28. 'CORN..SILAGE...YIELD..MEASURED.IN.TONS...ACRE.....CV....'\n",
       "\n",
       "\n"
      ],
      "text/plain": [
       " [1] \"Program\"                                                 \n",
       " [2] \"Year\"                                                    \n",
       " [3] \"Period\"                                                  \n",
       " [4] \"Week.Ending\"                                             \n",
       " [5] \"Geo.Level\"                                               \n",
       " [6] \"State\"                                                   \n",
       " [7] \"State.ANSI\"                                              \n",
       " [8] \"Ag.District\"                                             \n",
       " [9] \"Ag.District.Code\"                                        \n",
       "[10] \"County\"                                                  \n",
       "[11] \"County.ANSI\"                                             \n",
       "[12] \"Zip.Code\"                                                \n",
       "[13] \"Region\"                                                  \n",
       "[14] \"watershed_code\"                                          \n",
       "[15] \"Watershed\"                                               \n",
       "[16] \"COMMODITY\"                                               \n",
       "[17] \"Domain\"                                                  \n",
       "[18] \"Domain.Category\"                                         \n",
       "[19] \"CORN...ACRES.PLANTED\"                                    \n",
       "[20] \"CORN...ACRES.PLANTED.....CV....\"                         \n",
       "[21] \"CORN..GRAIN...ACRES.HARVESTED\"                           \n",
       "[22] \"CORN..GRAIN...ACRES.HARVESTED.....CV....\"                \n",
       "[23] \"CORN..GRAIN...YIELD..MEASURED.IN.BU...ACRE\"              \n",
       "[24] \"CORN..GRAIN...YIELD..MEASURED.IN.BU...ACRE.....CV....\"   \n",
       "[25] \"CORN..SILAGE...ACRES.HARVESTED\"                          \n",
       "[26] \"CORN..SILAGE...ACRES.HARVESTED.....CV....\"               \n",
       "[27] \"CORN..SILAGE...YIELD..MEASURED.IN.TONS...ACRE\"           \n",
       "[28] \"CORN..SILAGE...YIELD..MEASURED.IN.TONS...ACRE.....CV....\""
      ]
     },
     "metadata": {},
     "output_type": "display_data"
    }
   ],
   "source": [
    "colnames(corn_yield)"
   ]
  },
  {
   "cell_type": "code",
   "execution_count": 38,
   "metadata": {},
   "outputs": [
    {
     "data": {
      "text/html": [
       "<table>\n",
       "<thead><tr><th></th><th scope=col>Program</th><th scope=col>Year</th><th scope=col>Period</th><th scope=col>Week.Ending</th><th scope=col>Geo.Level</th><th scope=col>State</th><th scope=col>State.ANSI</th><th scope=col>Ag.District</th><th scope=col>Ag.District.Code</th><th scope=col>County</th><th scope=col>⋯</th><th scope=col>CORN...ACRES.PLANTED</th><th scope=col>CORN...ACRES.PLANTED.....CV....</th><th scope=col>CORN..GRAIN...ACRES.HARVESTED</th><th scope=col>CORN..GRAIN...ACRES.HARVESTED.....CV....</th><th scope=col>CORN..GRAIN...YIELD..MEASURED.IN.BU...ACRE</th><th scope=col>CORN..GRAIN...YIELD..MEASURED.IN.BU...ACRE.....CV....</th><th scope=col>CORN..SILAGE...ACRES.HARVESTED</th><th scope=col>CORN..SILAGE...ACRES.HARVESTED.....CV....</th><th scope=col>CORN..SILAGE...YIELD..MEASURED.IN.TONS...ACRE</th><th scope=col>CORN..SILAGE...YIELD..MEASURED.IN.TONS...ACRE.....CV....</th></tr></thead>\n",
       "<tbody>\n",
       "\t<tr><th scope=row>7598</th><td>SURVEY       </td><td>2014         </td><td>YEAR         </td><td>NA           </td><td>COUNTY       </td><td>MONTANA      </td><td>30           </td><td>NORTH CENTRAL</td><td>20           </td><td>PONDERA      </td><td>⋯            </td><td>500          </td><td>NA           </td><td>NA           </td><td>NA           </td><td>NA           </td><td>NA           </td><td>NA           </td><td>NA           </td><td>NA           </td><td>NA           </td></tr>\n",
       "</tbody>\n",
       "</table>\n"
      ],
      "text/latex": [
       "\\begin{tabular}{r|llllllllllllllllllllllllllll}\n",
       "  & Program & Year & Period & Week.Ending & Geo.Level & State & State.ANSI & Ag.District & Ag.District.Code & County & ⋯ & CORN...ACRES.PLANTED & CORN...ACRES.PLANTED.....CV.... & CORN..GRAIN...ACRES.HARVESTED & CORN..GRAIN...ACRES.HARVESTED.....CV.... & CORN..GRAIN...YIELD..MEASURED.IN.BU...ACRE & CORN..GRAIN...YIELD..MEASURED.IN.BU...ACRE.....CV.... & CORN..SILAGE...ACRES.HARVESTED & CORN..SILAGE...ACRES.HARVESTED.....CV.... & CORN..SILAGE...YIELD..MEASURED.IN.TONS...ACRE & CORN..SILAGE...YIELD..MEASURED.IN.TONS...ACRE.....CV....\\\\\n",
       "\\hline\n",
       "\t7598 & SURVEY        & 2014          & YEAR          & NA            & COUNTY        & MONTANA       & 30            & NORTH CENTRAL & 20            & PONDERA       & ⋯             & 500           & NA            & NA            & NA            & NA            & NA            & NA            & NA            & NA            & NA           \\\\\n",
       "\\end{tabular}\n"
      ],
      "text/markdown": [
       "\n",
       "| <!--/--> | Program | Year | Period | Week.Ending | Geo.Level | State | State.ANSI | Ag.District | Ag.District.Code | County | ⋯ | CORN...ACRES.PLANTED | CORN...ACRES.PLANTED.....CV.... | CORN..GRAIN...ACRES.HARVESTED | CORN..GRAIN...ACRES.HARVESTED.....CV.... | CORN..GRAIN...YIELD..MEASURED.IN.BU...ACRE | CORN..GRAIN...YIELD..MEASURED.IN.BU...ACRE.....CV.... | CORN..SILAGE...ACRES.HARVESTED | CORN..SILAGE...ACRES.HARVESTED.....CV.... | CORN..SILAGE...YIELD..MEASURED.IN.TONS...ACRE | CORN..SILAGE...YIELD..MEASURED.IN.TONS...ACRE.....CV.... |\n",
       "|---|---|---|---|---|---|---|---|---|---|---|---|---|---|---|---|---|---|---|---|---|---|\n",
       "| 7598 | SURVEY        | 2014          | YEAR          | NA            | COUNTY        | MONTANA       | 30            | NORTH CENTRAL | 20            | PONDERA       | ⋯             | 500           | NA            | NA            | NA            | NA            | NA            | NA            | NA            | NA            | NA            |\n",
       "\n"
      ],
      "text/plain": [
       "     Program Year Period Week.Ending Geo.Level State   State.ANSI Ag.District  \n",
       "7598 SURVEY  2014 YEAR   NA          COUNTY    MONTANA 30         NORTH CENTRAL\n",
       "     Ag.District.Code County  ⋯ CORN...ACRES.PLANTED\n",
       "7598 20               PONDERA ⋯ 500                 \n",
       "     CORN...ACRES.PLANTED.....CV.... CORN..GRAIN...ACRES.HARVESTED\n",
       "7598 NA                              NA                           \n",
       "     CORN..GRAIN...ACRES.HARVESTED.....CV....\n",
       "7598 NA                                      \n",
       "     CORN..GRAIN...YIELD..MEASURED.IN.BU...ACRE\n",
       "7598 NA                                        \n",
       "     CORN..GRAIN...YIELD..MEASURED.IN.BU...ACRE.....CV....\n",
       "7598 NA                                                   \n",
       "     CORN..SILAGE...ACRES.HARVESTED CORN..SILAGE...ACRES.HARVESTED.....CV....\n",
       "7598 NA                             NA                                       \n",
       "     CORN..SILAGE...YIELD..MEASURED.IN.TONS...ACRE\n",
       "7598 NA                                           \n",
       "     CORN..SILAGE...YIELD..MEASURED.IN.TONS...ACRE.....CV....\n",
       "7598 NA                                                      "
      ]
     },
     "metadata": {},
     "output_type": "display_data"
    },
    {
     "data": {
      "text/html": [
       "13962"
      ],
      "text/latex": [
       "13962"
      ],
      "text/markdown": [
       "13962"
      ],
      "text/plain": [
       "[1] 13962"
      ]
     },
     "metadata": {},
     "output_type": "display_data"
    }
   ],
   "source": [
    "corn_yield$COMMODITY = NA\n",
    "corn_yield$COMMODITY[!(is.na(corn_yield$CORN..GRAIN...ACRES.HARVESTED))] = \"CORN, GRAIN\"\n",
    "corn_yield$COMMODITY[!is.na(corn_yield$CORN..SILAGE...ACRES.HARVESTED)] = \"CORN, SILAGE\"\n",
    "corn_yield[which(is.na(corn_yield$COMMODITY)),]\n",
    "corn_yield = corn_yield[!is.na(corn_yield$COMMODITY),]\n",
    "nrow(corn_yield)\n"
   ]
  },
  {
   "cell_type": "code",
   "execution_count": 39,
   "metadata": {},
   "outputs": [],
   "source": [
    "colnames(corn_yield)[2] = \"YEAR\""
   ]
  },
  {
   "cell_type": "code",
   "execution_count": 40,
   "metadata": {},
   "outputs": [],
   "source": [
    "colnames(corn_yield)[6] = \"STATE\""
   ]
  },
  {
   "cell_type": "code",
   "execution_count": 41,
   "metadata": {},
   "outputs": [],
   "source": [
    "colnames(corn_yield)[7] = \"STATE_FIPS\""
   ]
  },
  {
   "cell_type": "code",
   "execution_count": 42,
   "metadata": {},
   "outputs": [],
   "source": [
    "colnames(corn_yield)[10] = \"COUNTY\""
   ]
  },
  {
   "cell_type": "code",
   "execution_count": 43,
   "metadata": {},
   "outputs": [],
   "source": [
    "colnames(corn_yield)[11] = \"COUNTY_FIPS\""
   ]
  },
  {
   "cell_type": "code",
   "execution_count": 44,
   "metadata": {},
   "outputs": [],
   "source": [
    "colnames(corn_yield)[19] = \"ACRES_PLANTED\""
   ]
  },
  {
   "cell_type": "code",
   "execution_count": 45,
   "metadata": {},
   "outputs": [],
   "source": [
    "colnames(corn_yield)[21] = \"ACRES_HARVESTED\""
   ]
  },
  {
   "cell_type": "code",
   "execution_count": 46,
   "metadata": {},
   "outputs": [],
   "source": [
    "colnames(corn_yield)[23] = \"YIELD_BU_ACRE\""
   ]
  },
  {
   "cell_type": "code",
   "execution_count": 47,
   "metadata": {},
   "outputs": [],
   "source": [
    "colnames(corn_yield)[27] = \"YIELD_TONS_ACRE\""
   ]
  },
  {
   "cell_type": "code",
   "execution_count": 48,
   "metadata": {},
   "outputs": [
    {
     "data": {
      "text/html": [
       "<ol class=list-inline>\n",
       "\t<li>'Program'</li>\n",
       "\t<li>'YEAR'</li>\n",
       "\t<li>'Period'</li>\n",
       "\t<li>'Week.Ending'</li>\n",
       "\t<li>'Geo.Level'</li>\n",
       "\t<li>'STATE'</li>\n",
       "\t<li>'STATE_FIPS'</li>\n",
       "\t<li>'Ag.District'</li>\n",
       "\t<li>'Ag.District.Code'</li>\n",
       "\t<li>'COUNTY'</li>\n",
       "\t<li>'COUNTY_FIPS'</li>\n",
       "\t<li>'Zip.Code'</li>\n",
       "\t<li>'Region'</li>\n",
       "\t<li>'watershed_code'</li>\n",
       "\t<li>'Watershed'</li>\n",
       "\t<li>'COMMODITY'</li>\n",
       "\t<li>'Domain'</li>\n",
       "\t<li>'Domain.Category'</li>\n",
       "\t<li>'ACRES_PLANTED'</li>\n",
       "\t<li>'CORN...ACRES.PLANTED.....CV....'</li>\n",
       "\t<li>'ACRES_HARVESTED'</li>\n",
       "\t<li>'CORN..GRAIN...ACRES.HARVESTED.....CV....'</li>\n",
       "\t<li>'YIELD_BU_ACRE'</li>\n",
       "\t<li>'CORN..GRAIN...YIELD..MEASURED.IN.BU...ACRE.....CV....'</li>\n",
       "\t<li>'CORN..SILAGE...ACRES.HARVESTED'</li>\n",
       "\t<li>'CORN..SILAGE...ACRES.HARVESTED.....CV....'</li>\n",
       "\t<li>'YIELD_TONS_ACRE'</li>\n",
       "\t<li>'CORN..SILAGE...YIELD..MEASURED.IN.TONS...ACRE.....CV....'</li>\n",
       "</ol>\n"
      ],
      "text/latex": [
       "\\begin{enumerate*}\n",
       "\\item 'Program'\n",
       "\\item 'YEAR'\n",
       "\\item 'Period'\n",
       "\\item 'Week.Ending'\n",
       "\\item 'Geo.Level'\n",
       "\\item 'STATE'\n",
       "\\item 'STATE\\_FIPS'\n",
       "\\item 'Ag.District'\n",
       "\\item 'Ag.District.Code'\n",
       "\\item 'COUNTY'\n",
       "\\item 'COUNTY\\_FIPS'\n",
       "\\item 'Zip.Code'\n",
       "\\item 'Region'\n",
       "\\item 'watershed\\_code'\n",
       "\\item 'Watershed'\n",
       "\\item 'COMMODITY'\n",
       "\\item 'Domain'\n",
       "\\item 'Domain.Category'\n",
       "\\item 'ACRES\\_PLANTED'\n",
       "\\item 'CORN...ACRES.PLANTED.....CV....'\n",
       "\\item 'ACRES\\_HARVESTED'\n",
       "\\item 'CORN..GRAIN...ACRES.HARVESTED.....CV....'\n",
       "\\item 'YIELD\\_BU\\_ACRE'\n",
       "\\item 'CORN..GRAIN...YIELD..MEASURED.IN.BU...ACRE.....CV....'\n",
       "\\item 'CORN..SILAGE...ACRES.HARVESTED'\n",
       "\\item 'CORN..SILAGE...ACRES.HARVESTED.....CV....'\n",
       "\\item 'YIELD\\_TONS\\_ACRE'\n",
       "\\item 'CORN..SILAGE...YIELD..MEASURED.IN.TONS...ACRE.....CV....'\n",
       "\\end{enumerate*}\n"
      ],
      "text/markdown": [
       "1. 'Program'\n",
       "2. 'YEAR'\n",
       "3. 'Period'\n",
       "4. 'Week.Ending'\n",
       "5. 'Geo.Level'\n",
       "6. 'STATE'\n",
       "7. 'STATE_FIPS'\n",
       "8. 'Ag.District'\n",
       "9. 'Ag.District.Code'\n",
       "10. 'COUNTY'\n",
       "11. 'COUNTY_FIPS'\n",
       "12. 'Zip.Code'\n",
       "13. 'Region'\n",
       "14. 'watershed_code'\n",
       "15. 'Watershed'\n",
       "16. 'COMMODITY'\n",
       "17. 'Domain'\n",
       "18. 'Domain.Category'\n",
       "19. 'ACRES_PLANTED'\n",
       "20. 'CORN...ACRES.PLANTED.....CV....'\n",
       "21. 'ACRES_HARVESTED'\n",
       "22. 'CORN..GRAIN...ACRES.HARVESTED.....CV....'\n",
       "23. 'YIELD_BU_ACRE'\n",
       "24. 'CORN..GRAIN...YIELD..MEASURED.IN.BU...ACRE.....CV....'\n",
       "25. 'CORN..SILAGE...ACRES.HARVESTED'\n",
       "26. 'CORN..SILAGE...ACRES.HARVESTED.....CV....'\n",
       "27. 'YIELD_TONS_ACRE'\n",
       "28. 'CORN..SILAGE...YIELD..MEASURED.IN.TONS...ACRE.....CV....'\n",
       "\n",
       "\n"
      ],
      "text/plain": [
       " [1] \"Program\"                                                 \n",
       " [2] \"YEAR\"                                                    \n",
       " [3] \"Period\"                                                  \n",
       " [4] \"Week.Ending\"                                             \n",
       " [5] \"Geo.Level\"                                               \n",
       " [6] \"STATE\"                                                   \n",
       " [7] \"STATE_FIPS\"                                              \n",
       " [8] \"Ag.District\"                                             \n",
       " [9] \"Ag.District.Code\"                                        \n",
       "[10] \"COUNTY\"                                                  \n",
       "[11] \"COUNTY_FIPS\"                                             \n",
       "[12] \"Zip.Code\"                                                \n",
       "[13] \"Region\"                                                  \n",
       "[14] \"watershed_code\"                                          \n",
       "[15] \"Watershed\"                                               \n",
       "[16] \"COMMODITY\"                                               \n",
       "[17] \"Domain\"                                                  \n",
       "[18] \"Domain.Category\"                                         \n",
       "[19] \"ACRES_PLANTED\"                                           \n",
       "[20] \"CORN...ACRES.PLANTED.....CV....\"                         \n",
       "[21] \"ACRES_HARVESTED\"                                         \n",
       "[22] \"CORN..GRAIN...ACRES.HARVESTED.....CV....\"                \n",
       "[23] \"YIELD_BU_ACRE\"                                           \n",
       "[24] \"CORN..GRAIN...YIELD..MEASURED.IN.BU...ACRE.....CV....\"   \n",
       "[25] \"CORN..SILAGE...ACRES.HARVESTED\"                          \n",
       "[26] \"CORN..SILAGE...ACRES.HARVESTED.....CV....\"               \n",
       "[27] \"YIELD_TONS_ACRE\"                                         \n",
       "[28] \"CORN..SILAGE...YIELD..MEASURED.IN.TONS...ACRE.....CV....\""
      ]
     },
     "metadata": {},
     "output_type": "display_data"
    }
   ],
   "source": [
    "colnames(corn_yield)"
   ]
  },
  {
   "cell_type": "code",
   "execution_count": 49,
   "metadata": {},
   "outputs": [],
   "source": [
    "removals = colnames(corn_yield)[c(1, 3, 4, 5, 8, 9, 12, 13, 14, 15, 17, 18, 20, 22, 24, 26)]"
   ]
  },
  {
   "cell_type": "code",
   "execution_count": 50,
   "metadata": {},
   "outputs": [
    {
     "data": {
      "text/html": [
       "<ol class=list-inline>\n",
       "\t<li>'Program'</li>\n",
       "\t<li>'Period'</li>\n",
       "\t<li>'Week.Ending'</li>\n",
       "\t<li>'Geo.Level'</li>\n",
       "\t<li>'Ag.District'</li>\n",
       "\t<li>'Ag.District.Code'</li>\n",
       "\t<li>'Zip.Code'</li>\n",
       "\t<li>'Region'</li>\n",
       "\t<li>'watershed_code'</li>\n",
       "\t<li>'Watershed'</li>\n",
       "\t<li>'Domain'</li>\n",
       "\t<li>'Domain.Category'</li>\n",
       "\t<li>'CORN...ACRES.PLANTED.....CV....'</li>\n",
       "\t<li>'CORN..GRAIN...ACRES.HARVESTED.....CV....'</li>\n",
       "\t<li>'CORN..GRAIN...YIELD..MEASURED.IN.BU...ACRE.....CV....'</li>\n",
       "\t<li>'CORN..SILAGE...ACRES.HARVESTED.....CV....'</li>\n",
       "</ol>\n"
      ],
      "text/latex": [
       "\\begin{enumerate*}\n",
       "\\item 'Program'\n",
       "\\item 'Period'\n",
       "\\item 'Week.Ending'\n",
       "\\item 'Geo.Level'\n",
       "\\item 'Ag.District'\n",
       "\\item 'Ag.District.Code'\n",
       "\\item 'Zip.Code'\n",
       "\\item 'Region'\n",
       "\\item 'watershed\\_code'\n",
       "\\item 'Watershed'\n",
       "\\item 'Domain'\n",
       "\\item 'Domain.Category'\n",
       "\\item 'CORN...ACRES.PLANTED.....CV....'\n",
       "\\item 'CORN..GRAIN...ACRES.HARVESTED.....CV....'\n",
       "\\item 'CORN..GRAIN...YIELD..MEASURED.IN.BU...ACRE.....CV....'\n",
       "\\item 'CORN..SILAGE...ACRES.HARVESTED.....CV....'\n",
       "\\end{enumerate*}\n"
      ],
      "text/markdown": [
       "1. 'Program'\n",
       "2. 'Period'\n",
       "3. 'Week.Ending'\n",
       "4. 'Geo.Level'\n",
       "5. 'Ag.District'\n",
       "6. 'Ag.District.Code'\n",
       "7. 'Zip.Code'\n",
       "8. 'Region'\n",
       "9. 'watershed_code'\n",
       "10. 'Watershed'\n",
       "11. 'Domain'\n",
       "12. 'Domain.Category'\n",
       "13. 'CORN...ACRES.PLANTED.....CV....'\n",
       "14. 'CORN..GRAIN...ACRES.HARVESTED.....CV....'\n",
       "15. 'CORN..GRAIN...YIELD..MEASURED.IN.BU...ACRE.....CV....'\n",
       "16. 'CORN..SILAGE...ACRES.HARVESTED.....CV....'\n",
       "\n",
       "\n"
      ],
      "text/plain": [
       " [1] \"Program\"                                              \n",
       " [2] \"Period\"                                               \n",
       " [3] \"Week.Ending\"                                          \n",
       " [4] \"Geo.Level\"                                            \n",
       " [5] \"Ag.District\"                                          \n",
       " [6] \"Ag.District.Code\"                                     \n",
       " [7] \"Zip.Code\"                                             \n",
       " [8] \"Region\"                                               \n",
       " [9] \"watershed_code\"                                       \n",
       "[10] \"Watershed\"                                            \n",
       "[11] \"Domain\"                                               \n",
       "[12] \"Domain.Category\"                                      \n",
       "[13] \"CORN...ACRES.PLANTED.....CV....\"                      \n",
       "[14] \"CORN..GRAIN...ACRES.HARVESTED.....CV....\"             \n",
       "[15] \"CORN..GRAIN...YIELD..MEASURED.IN.BU...ACRE.....CV....\"\n",
       "[16] \"CORN..SILAGE...ACRES.HARVESTED.....CV....\"            "
      ]
     },
     "metadata": {},
     "output_type": "display_data"
    }
   ],
   "source": [
    "removals"
   ]
  },
  {
   "cell_type": "code",
   "execution_count": 51,
   "metadata": {},
   "outputs": [],
   "source": [
    "grain_cols = c(\"YEAR\", \"STATE\", \"STATE_FIPS\", \"COUNTY\", \"COUNTY_FIPS\", \"ACRES_PLANTED\", \"ACRES_HARVESTED\", \"YIELD_BU_ACRE\")"
   ]
  },
  {
   "cell_type": "code",
   "execution_count": 52,
   "metadata": {},
   "outputs": [
    {
     "data": {
      "text/html": [
       "<ol class=list-inline>\n",
       "\t<li>'YEAR'</li>\n",
       "\t<li>'STATE'</li>\n",
       "\t<li>'STATE_FIPS'</li>\n",
       "\t<li>'COUNTY'</li>\n",
       "\t<li>'COUNTY_FIPS'</li>\n",
       "\t<li>'ACRES_PLANTED'</li>\n",
       "\t<li>'ACRES_HARVESTED'</li>\n",
       "\t<li>'YIELD_BU_ACRE'</li>\n",
       "</ol>\n"
      ],
      "text/latex": [
       "\\begin{enumerate*}\n",
       "\\item 'YEAR'\n",
       "\\item 'STATE'\n",
       "\\item 'STATE\\_FIPS'\n",
       "\\item 'COUNTY'\n",
       "\\item 'COUNTY\\_FIPS'\n",
       "\\item 'ACRES\\_PLANTED'\n",
       "\\item 'ACRES\\_HARVESTED'\n",
       "\\item 'YIELD\\_BU\\_ACRE'\n",
       "\\end{enumerate*}\n"
      ],
      "text/markdown": [
       "1. 'YEAR'\n",
       "2. 'STATE'\n",
       "3. 'STATE_FIPS'\n",
       "4. 'COUNTY'\n",
       "5. 'COUNTY_FIPS'\n",
       "6. 'ACRES_PLANTED'\n",
       "7. 'ACRES_HARVESTED'\n",
       "8. 'YIELD_BU_ACRE'\n",
       "\n",
       "\n"
      ],
      "text/plain": [
       "[1] \"YEAR\"            \"STATE\"           \"STATE_FIPS\"      \"COUNTY\"         \n",
       "[5] \"COUNTY_FIPS\"     \"ACRES_PLANTED\"   \"ACRES_HARVESTED\" \"YIELD_BU_ACRE\"  "
      ]
     },
     "metadata": {},
     "output_type": "display_data"
    }
   ],
   "source": [
    "grain_cols"
   ]
  },
  {
   "cell_type": "code",
   "execution_count": 53,
   "metadata": {},
   "outputs": [
    {
     "data": {
      "text/html": [
       "<table>\n",
       "<thead><tr><th scope=col>YEAR</th><th scope=col>STATE</th><th scope=col>STATE_FIPS</th><th scope=col>COUNTY</th><th scope=col>COUNTY_FIPS</th><th scope=col>ACRES_PLANTED</th><th scope=col>ACRES_HARVESTED</th><th scope=col>YIELD_BU_ACRE</th></tr></thead>\n",
       "<tbody>\n",
       "\t<tr><td>2018                     </td><td>ALABAMA                  </td><td>1                        </td><td>AUTAUGA                  </td><td>  1                      </td><td> 1100                    </td><td> 1000                    </td><td>165.0                    </td></tr>\n",
       "\t<tr><td>2018                     </td><td>ALABAMA                  </td><td>1                        </td><td>DALLAS                   </td><td> 47                      </td><td> 5400                    </td><td> 5100                    </td><td>137.3                    </td></tr>\n",
       "\t<tr><td>2018                     </td><td>ALABAMA                  </td><td>1                        </td><td>ELMORE                   </td><td> 51                      </td><td> 2200                    </td><td> 2200                    </td><td>170.5                    </td></tr>\n",
       "\t<tr><td>2018                     </td><td>ALABAMA                  </td><td>1                        </td><td>OTHER (COMBINED) COUNTIES</td><td> NA                      </td><td>15900                    </td><td>14900                    </td><td>155.8                    </td></tr>\n",
       "\t<tr><td>2018                     </td><td>ALABAMA                  </td><td>1                        </td><td>PERRY                    </td><td>105                      </td><td> 6400                    </td><td> 6300                    </td><td>145.2                    </td></tr>\n",
       "\t<tr><td>2018                     </td><td>ALABAMA                  </td><td>1                        </td><td>BALDWIN                  </td><td>  3                      </td><td> 7200                    </td><td> 7000                    </td><td>152.0                    </td></tr>\n",
       "</tbody>\n",
       "</table>\n"
      ],
      "text/latex": [
       "\\begin{tabular}{r|llllllll}\n",
       " YEAR & STATE & STATE\\_FIPS & COUNTY & COUNTY\\_FIPS & ACRES\\_PLANTED & ACRES\\_HARVESTED & YIELD\\_BU\\_ACRE\\\\\n",
       "\\hline\n",
       "\t 2018                      & ALABAMA                   & 1                         & AUTAUGA                   &   1                       &  1100                     &  1000                     & 165.0                    \\\\\n",
       "\t 2018                      & ALABAMA                   & 1                         & DALLAS                    &  47                       &  5400                     &  5100                     & 137.3                    \\\\\n",
       "\t 2018                      & ALABAMA                   & 1                         & ELMORE                    &  51                       &  2200                     &  2200                     & 170.5                    \\\\\n",
       "\t 2018                      & ALABAMA                   & 1                         & OTHER (COMBINED) COUNTIES &  NA                       & 15900                     & 14900                     & 155.8                    \\\\\n",
       "\t 2018                      & ALABAMA                   & 1                         & PERRY                     & 105                       &  6400                     &  6300                     & 145.2                    \\\\\n",
       "\t 2018                      & ALABAMA                   & 1                         & BALDWIN                   &   3                       &  7200                     &  7000                     & 152.0                    \\\\\n",
       "\\end{tabular}\n"
      ],
      "text/markdown": [
       "\n",
       "| YEAR | STATE | STATE_FIPS | COUNTY | COUNTY_FIPS | ACRES_PLANTED | ACRES_HARVESTED | YIELD_BU_ACRE |\n",
       "|---|---|---|---|---|---|---|---|\n",
       "| 2018                      | ALABAMA                   | 1                         | AUTAUGA                   |   1                       |  1100                     |  1000                     | 165.0                     |\n",
       "| 2018                      | ALABAMA                   | 1                         | DALLAS                    |  47                       |  5400                     |  5100                     | 137.3                     |\n",
       "| 2018                      | ALABAMA                   | 1                         | ELMORE                    |  51                       |  2200                     |  2200                     | 170.5                     |\n",
       "| 2018                      | ALABAMA                   | 1                         | OTHER (COMBINED) COUNTIES |  NA                       | 15900                     | 14900                     | 155.8                     |\n",
       "| 2018                      | ALABAMA                   | 1                         | PERRY                     | 105                       |  6400                     |  6300                     | 145.2                     |\n",
       "| 2018                      | ALABAMA                   | 1                         | BALDWIN                   |   3                       |  7200                     |  7000                     | 152.0                     |\n",
       "\n"
      ],
      "text/plain": [
       "  YEAR STATE   STATE_FIPS COUNTY                    COUNTY_FIPS ACRES_PLANTED\n",
       "1 2018 ALABAMA 1          AUTAUGA                     1          1100        \n",
       "2 2018 ALABAMA 1          DALLAS                     47          5400        \n",
       "3 2018 ALABAMA 1          ELMORE                     51          2200        \n",
       "4 2018 ALABAMA 1          OTHER (COMBINED) COUNTIES  NA         15900        \n",
       "5 2018 ALABAMA 1          PERRY                     105          6400        \n",
       "6 2018 ALABAMA 1          BALDWIN                     3          7200        \n",
       "  ACRES_HARVESTED YIELD_BU_ACRE\n",
       "1  1000           165.0        \n",
       "2  5100           137.3        \n",
       "3  2200           170.5        \n",
       "4 14900           155.8        \n",
       "5  6300           145.2        \n",
       "6  7000           152.0        "
      ]
     },
     "metadata": {},
     "output_type": "display_data"
    }
   ],
   "source": [
    "head(corn_yield[,grain_cols])"
   ]
  },
  {
   "cell_type": "code",
   "execution_count": 54,
   "metadata": {},
   "outputs": [
    {
     "data": {
      "text/html": [
       "1212"
      ],
      "text/latex": [
       "1212"
      ],
      "text/markdown": [
       "1212"
      ],
      "text/plain": [
       "[1] 1212"
      ]
     },
     "metadata": {},
     "output_type": "display_data"
    }
   ],
   "source": [
    "length(unique(corn_grain$COUNTY))"
   ]
  },
  {
   "cell_type": "code",
   "execution_count": 55,
   "metadata": {},
   "outputs": [],
   "source": [
    "corn_grain_rowIdx=complete.cases(corn_yield[,grain_cols])"
   ]
  },
  {
   "cell_type": "code",
   "execution_count": 56,
   "metadata": {},
   "outputs": [],
   "source": [
    "corn_grain = corn_yield[corn_grain_rowIdx, grain_cols]"
   ]
  },
  {
   "cell_type": "code",
   "execution_count": 58,
   "metadata": {},
   "outputs": [
    {
     "name": "stdout",
     "output_type": "stream",
     "text": [
      "'data.frame':\t12193 obs. of  8 variables:\n",
      " $ YEAR           : int  2018 2018 2018 2018 2018 2018 2018 2018 2018 2018 ...\n",
      " $ STATE          : Factor w/ 37 levels \"ALABAMA\",\"ARKANSAS\",..: 1 1 1 1 1 1 1 1 1 1 ...\n",
      " $ STATE_FIPS     : int  1 1 1 1 1 1 1 1 1 1 ...\n",
      " $ COUNTY         : Factor w/ 1229 levels \"ACCOMACK\",\"ADA\",..: 50 305 376 874 56 270 381 758 162 294 ...\n",
      " $ COUNTY_FIPS    : int  1 47 51 105 3 35 53 99 15 43 ...\n",
      " $ ACRES_PLANTED  : int  1100 5400 2200 6400 7200 900 2900 1700 1300 1500 ...\n",
      " $ ACRES_HARVESTED: int  1000 5100 2200 6300 7000 800 2850 1650 1300 1350 ...\n",
      " $ YIELD_BU_ACRE  : num  165 137 170 145 152 ...\n"
     ]
    }
   ],
   "source": [
    "str(corn_grain)"
   ]
  },
  {
   "cell_type": "code",
   "execution_count": 59,
   "metadata": {},
   "outputs": [
    {
     "data": {
      "text/html": [
       "<table>\n",
       "<thead><tr><th></th><th scope=col>YEAR</th><th scope=col>STATE</th><th scope=col>STATE_FIPS</th><th scope=col>COUNTY</th><th scope=col>COUNTY_FIPS</th><th scope=col>ACRES_PLANTED</th><th scope=col>ACRES_HARVESTED</th><th scope=col>YIELD_BU_ACRE</th></tr></thead>\n",
       "<tbody>\n",
       "\t<tr><th scope=row>1</th><td>2018         </td><td>ALABAMA      </td><td>1            </td><td>AUTAUGA      </td><td>  1          </td><td> 1100        </td><td> 1000        </td><td>165.0        </td></tr>\n",
       "\t<tr><th scope=row>2</th><td>2018         </td><td>ALABAMA      </td><td>1            </td><td>DALLAS       </td><td> 47          </td><td> 5400        </td><td> 5100        </td><td>137.3        </td></tr>\n",
       "\t<tr><th scope=row>3</th><td>2018         </td><td>ALABAMA      </td><td>1            </td><td>ELMORE       </td><td> 51          </td><td> 2200        </td><td> 2200        </td><td>170.5        </td></tr>\n",
       "\t<tr><th scope=row>5</th><td>2018         </td><td>ALABAMA      </td><td>1            </td><td>PERRY        </td><td>105          </td><td> 6400        </td><td> 6300        </td><td>145.2        </td></tr>\n",
       "\t<tr><th scope=row>6</th><td>2018         </td><td>ALABAMA      </td><td>1            </td><td>BALDWIN      </td><td>  3          </td><td> 7200        </td><td> 7000        </td><td>152.0        </td></tr>\n",
       "\t<tr><th scope=row>7</th><td>2018         </td><td>ALABAMA      </td><td>1            </td><td>CONECUH      </td><td> 35          </td><td>  900        </td><td>  800        </td><td>150.0        </td></tr>\n",
       "\t<tr><th scope=row>8</th><td>2018         </td><td>ALABAMA      </td><td>1            </td><td>ESCAMBIA     </td><td> 53          </td><td> 2900        </td><td> 2850        </td><td>176.8        </td></tr>\n",
       "\t<tr><th scope=row>9</th><td>2018         </td><td>ALABAMA      </td><td>1            </td><td>MONROE       </td><td> 99          </td><td> 1700        </td><td> 1650        </td><td>157.6        </td></tr>\n",
       "\t<tr><th scope=row>11</th><td>2018         </td><td>ALABAMA      </td><td>1            </td><td>CALHOUN      </td><td> 15          </td><td> 1300        </td><td> 1300        </td><td>156.2        </td></tr>\n",
       "\t<tr><th scope=row>12</th><td>2018         </td><td>ALABAMA      </td><td>1            </td><td>CULLMAN      </td><td> 43          </td><td> 1500        </td><td> 1350        </td><td>181.5        </td></tr>\n",
       "\t<tr><th scope=row>13</th><td>2018         </td><td>ALABAMA      </td><td>1            </td><td>DE KALB      </td><td> 49          </td><td>11400        </td><td>11300        </td><td>168.3        </td></tr>\n",
       "\t<tr><th scope=row>14</th><td>2018         </td><td>ALABAMA      </td><td>1            </td><td>JACKSON      </td><td> 71          </td><td>22000        </td><td>21800        </td><td>155.3        </td></tr>\n",
       "\t<tr><th scope=row>16</th><td>2018         </td><td>ALABAMA      </td><td>1            </td><td>COLBERT      </td><td> 33          </td><td>17000        </td><td>16800        </td><td>153.6        </td></tr>\n",
       "\t<tr><th scope=row>17</th><td>2018         </td><td>ALABAMA      </td><td>1            </td><td>FRANKLIN     </td><td> 59          </td><td> 2000        </td><td> 1900        </td><td>100.0        </td></tr>\n",
       "\t<tr><th scope=row>18</th><td>2018         </td><td>ALABAMA      </td><td>1            </td><td>LAUDERDALE   </td><td> 77          </td><td>19400        </td><td>19000        </td><td>165.3        </td></tr>\n",
       "\t<tr><th scope=row>19</th><td>2018         </td><td>ALABAMA      </td><td>1            </td><td>LAWRENCE     </td><td> 79          </td><td>26000        </td><td>26000        </td><td>176.9        </td></tr>\n",
       "\t<tr><th scope=row>20</th><td>2018         </td><td>ALABAMA      </td><td>1            </td><td>LIMESTONE    </td><td> 83          </td><td>16500        </td><td>16200        </td><td>183.2        </td></tr>\n",
       "\t<tr><th scope=row>21</th><td>2018         </td><td>ALABAMA      </td><td>1            </td><td>MADISON      </td><td> 89          </td><td>25100        </td><td>24000        </td><td>159.8        </td></tr>\n",
       "\t<tr><th scope=row>22</th><td>2018         </td><td>ALABAMA      </td><td>1            </td><td>MORGAN       </td><td>103          </td><td> 4800        </td><td> 3900        </td><td>176.9        </td></tr>\n",
       "\t<tr><th scope=row>24</th><td>2018         </td><td>ALABAMA      </td><td>1            </td><td>FAYETTE      </td><td> 57          </td><td>  700        </td><td>  700        </td><td>124.3        </td></tr>\n",
       "\t<tr><th scope=row>26</th><td>2018         </td><td>ALABAMA      </td><td>1            </td><td>RANDOLPH     </td><td>111          </td><td> 1100        </td><td> 1000        </td><td>101.5        </td></tr>\n",
       "\t<tr><th scope=row>27</th><td>2018         </td><td>ALABAMA      </td><td>1            </td><td>TALLADEGA    </td><td>121          </td><td> 6400        </td><td> 6250        </td><td>139.2        </td></tr>\n",
       "\t<tr><th scope=row>28</th><td>2018         </td><td>ALABAMA      </td><td>1            </td><td>TUSCALOOSA   </td><td>125          </td><td> 1500        </td><td> 1500        </td><td>124.7        </td></tr>\n",
       "\t<tr><th scope=row>29</th><td>2018         </td><td>ALABAMA      </td><td>1            </td><td>WALKER       </td><td>127          </td><td>  700        </td><td>  690        </td><td>123.2        </td></tr>\n",
       "\t<tr><th scope=row>30</th><td>2018         </td><td>ALABAMA      </td><td>1            </td><td>CRENSHAW     </td><td> 41          </td><td> 2000        </td><td> 1900        </td><td>113.2        </td></tr>\n",
       "\t<tr><th scope=row>31</th><td>2018         </td><td>ALABAMA      </td><td>1            </td><td>GENEVA       </td><td> 61          </td><td> 6600        </td><td> 6300        </td><td>109.5        </td></tr>\n",
       "\t<tr><th scope=row>32</th><td>2018         </td><td>ALABAMA      </td><td>1            </td><td>HENRY        </td><td> 67          </td><td> 3500        </td><td> 3450        </td><td>162.3        </td></tr>\n",
       "\t<tr><th scope=row>33</th><td>2018         </td><td>ALABAMA      </td><td>1            </td><td>HOUSTON      </td><td> 69          </td><td> 2300        </td><td> 2000        </td><td>100.0        </td></tr>\n",
       "\t<tr><th scope=row>35</th><td>2018         </td><td>ARKANSAS     </td><td>5            </td><td>ARKANSAS     </td><td>  1          </td><td>44900        </td><td>44500        </td><td>187.0        </td></tr>\n",
       "\t<tr><th scope=row>36</th><td>2018         </td><td>ARKANSAS     </td><td>5            </td><td>CRITTENDEN   </td><td> 35          </td><td>16200        </td><td>16100        </td><td>175.2        </td></tr>\n",
       "\t<tr><th scope=row>37</th><td>2018         </td><td>ARKANSAS     </td><td>5            </td><td>CROSS        </td><td> 37          </td><td>19800        </td><td>19600        </td><td>186.2        </td></tr>\n",
       "\t<tr><th scope=row>38</th><td>2018         </td><td>ARKANSAS     </td><td>5            </td><td>LEE          </td><td> 77          </td><td>36000        </td><td>35400        </td><td>168.4        </td></tr>\n",
       "\t<tr><th scope=row>39</th><td>2018         </td><td>ARKANSAS     </td><td>5            </td><td>LONOKE       </td><td> 85          </td><td>38600        </td><td>38200        </td><td>185.3        </td></tr>\n",
       "\t<tr><th scope=row>40</th><td>2018         </td><td>ARKANSAS     </td><td>5            </td><td>MONROE       </td><td> 95          </td><td>26900        </td><td>26500        </td><td>173.2        </td></tr>\n",
       "\t<tr><th scope=row>41</th><td>2018         </td><td>ARKANSAS     </td><td>5            </td><td>PHILLIPS     </td><td>107          </td><td>32300        </td><td>31800        </td><td>166.7        </td></tr>\n",
       "\t<tr><th scope=row>42</th><td>2018         </td><td>ARKANSAS     </td><td>5            </td><td>PRAIRIE      </td><td>117          </td><td>19600        </td><td>19200        </td><td>191.1        </td></tr>\n",
       "\t<tr><th scope=row>43</th><td>2018         </td><td>ARKANSAS     </td><td>5            </td><td>SAINT FRANCIS</td><td>123          </td><td>21500        </td><td>21300        </td><td>180.3        </td></tr>\n",
       "\t<tr><th scope=row>44</th><td>2018         </td><td>ARKANSAS     </td><td>5            </td><td>WOODRUFF     </td><td>147          </td><td>22200        </td><td>21900        </td><td>188.1        </td></tr>\n",
       "\t<tr><th scope=row>45</th><td>2018         </td><td>ARKANSAS     </td><td>5            </td><td>CLAY         </td><td> 21          </td><td>29400        </td><td>28700        </td><td>189.7        </td></tr>\n",
       "\t<tr><th scope=row>46</th><td>2018         </td><td>ARKANSAS     </td><td>5            </td><td>CRAIGHEAD    </td><td> 31          </td><td>34100        </td><td>33000        </td><td>196.4        </td></tr>\n",
       "\t<tr><th scope=row>47</th><td>2018         </td><td>ARKANSAS     </td><td>5            </td><td>GREENE       </td><td> 55          </td><td>16200        </td><td>15800        </td><td>176.3        </td></tr>\n",
       "\t<tr><th scope=row>48</th><td>2018         </td><td>ARKANSAS     </td><td>5            </td><td>JACKSON      </td><td> 67          </td><td>15100        </td><td>14800        </td><td>177.0        </td></tr>\n",
       "\t<tr><th scope=row>49</th><td>2018         </td><td>ARKANSAS     </td><td>5            </td><td>MISSISSIPPI  </td><td> 93          </td><td>19700        </td><td>18400        </td><td>200.0        </td></tr>\n",
       "\t<tr><th scope=row>51</th><td>2018         </td><td>ARKANSAS     </td><td>5            </td><td>POINSETT     </td><td>111          </td><td>25500        </td><td>24900        </td><td>197.2        </td></tr>\n",
       "\t<tr><th scope=row>52</th><td>2018         </td><td>ARKANSAS     </td><td>5            </td><td>RANDOLPH     </td><td>121          </td><td> 4300        </td><td> 4200        </td><td>176.2        </td></tr>\n",
       "\t<tr><th scope=row>53</th><td>2018         </td><td>ARKANSAS     </td><td>5            </td><td>WHITE        </td><td>145          </td><td> 7000        </td><td> 5900        </td><td>184.7        </td></tr>\n",
       "\t<tr><th scope=row>55</th><td>2018         </td><td>ARKANSAS     </td><td>5            </td><td>ASHLEY       </td><td>  3          </td><td>27300        </td><td>27100        </td><td>194.5        </td></tr>\n",
       "\t<tr><th scope=row>56</th><td>2018         </td><td>ARKANSAS     </td><td>5            </td><td>CHICOT       </td><td> 17          </td><td>29200        </td><td>29000        </td><td>181.4        </td></tr>\n",
       "\t<tr><th scope=row>57</th><td>2018         </td><td>ARKANSAS     </td><td>5            </td><td>DESHA        </td><td> 41          </td><td>26200        </td><td>26000        </td><td>192.3        </td></tr>\n",
       "\t<tr><th scope=row>58</th><td>2018         </td><td>ARKANSAS     </td><td>5            </td><td>DREW         </td><td> 43          </td><td> 8000        </td><td> 7900        </td><td>186.1        </td></tr>\n",
       "</tbody>\n",
       "</table>\n"
      ],
      "text/latex": [
       "\\begin{tabular}{r|llllllll}\n",
       "  & YEAR & STATE & STATE\\_FIPS & COUNTY & COUNTY\\_FIPS & ACRES\\_PLANTED & ACRES\\_HARVESTED & YIELD\\_BU\\_ACRE\\\\\n",
       "\\hline\n",
       "\t1 & 2018          & ALABAMA       & 1             & AUTAUGA       &   1           &  1100         &  1000         & 165.0        \\\\\n",
       "\t2 & 2018          & ALABAMA       & 1             & DALLAS        &  47           &  5400         &  5100         & 137.3        \\\\\n",
       "\t3 & 2018          & ALABAMA       & 1             & ELMORE        &  51           &  2200         &  2200         & 170.5        \\\\\n",
       "\t5 & 2018          & ALABAMA       & 1             & PERRY         & 105           &  6400         &  6300         & 145.2        \\\\\n",
       "\t6 & 2018          & ALABAMA       & 1             & BALDWIN       &   3           &  7200         &  7000         & 152.0        \\\\\n",
       "\t7 & 2018          & ALABAMA       & 1             & CONECUH       &  35           &   900         &   800         & 150.0        \\\\\n",
       "\t8 & 2018          & ALABAMA       & 1             & ESCAMBIA      &  53           &  2900         &  2850         & 176.8        \\\\\n",
       "\t9 & 2018          & ALABAMA       & 1             & MONROE        &  99           &  1700         &  1650         & 157.6        \\\\\n",
       "\t11 & 2018          & ALABAMA       & 1             & CALHOUN       &  15           &  1300         &  1300         & 156.2        \\\\\n",
       "\t12 & 2018          & ALABAMA       & 1             & CULLMAN       &  43           &  1500         &  1350         & 181.5        \\\\\n",
       "\t13 & 2018          & ALABAMA       & 1             & DE KALB       &  49           & 11400         & 11300         & 168.3        \\\\\n",
       "\t14 & 2018          & ALABAMA       & 1             & JACKSON       &  71           & 22000         & 21800         & 155.3        \\\\\n",
       "\t16 & 2018          & ALABAMA       & 1             & COLBERT       &  33           & 17000         & 16800         & 153.6        \\\\\n",
       "\t17 & 2018          & ALABAMA       & 1             & FRANKLIN      &  59           &  2000         &  1900         & 100.0        \\\\\n",
       "\t18 & 2018          & ALABAMA       & 1             & LAUDERDALE    &  77           & 19400         & 19000         & 165.3        \\\\\n",
       "\t19 & 2018          & ALABAMA       & 1             & LAWRENCE      &  79           & 26000         & 26000         & 176.9        \\\\\n",
       "\t20 & 2018          & ALABAMA       & 1             & LIMESTONE     &  83           & 16500         & 16200         & 183.2        \\\\\n",
       "\t21 & 2018          & ALABAMA       & 1             & MADISON       &  89           & 25100         & 24000         & 159.8        \\\\\n",
       "\t22 & 2018          & ALABAMA       & 1             & MORGAN        & 103           &  4800         &  3900         & 176.9        \\\\\n",
       "\t24 & 2018          & ALABAMA       & 1             & FAYETTE       &  57           &   700         &   700         & 124.3        \\\\\n",
       "\t26 & 2018          & ALABAMA       & 1             & RANDOLPH      & 111           &  1100         &  1000         & 101.5        \\\\\n",
       "\t27 & 2018          & ALABAMA       & 1             & TALLADEGA     & 121           &  6400         &  6250         & 139.2        \\\\\n",
       "\t28 & 2018          & ALABAMA       & 1             & TUSCALOOSA    & 125           &  1500         &  1500         & 124.7        \\\\\n",
       "\t29 & 2018          & ALABAMA       & 1             & WALKER        & 127           &   700         &   690         & 123.2        \\\\\n",
       "\t30 & 2018          & ALABAMA       & 1             & CRENSHAW      &  41           &  2000         &  1900         & 113.2        \\\\\n",
       "\t31 & 2018          & ALABAMA       & 1             & GENEVA        &  61           &  6600         &  6300         & 109.5        \\\\\n",
       "\t32 & 2018          & ALABAMA       & 1             & HENRY         &  67           &  3500         &  3450         & 162.3        \\\\\n",
       "\t33 & 2018          & ALABAMA       & 1             & HOUSTON       &  69           &  2300         &  2000         & 100.0        \\\\\n",
       "\t35 & 2018          & ARKANSAS      & 5             & ARKANSAS      &   1           & 44900         & 44500         & 187.0        \\\\\n",
       "\t36 & 2018          & ARKANSAS      & 5             & CRITTENDEN    &  35           & 16200         & 16100         & 175.2        \\\\\n",
       "\t37 & 2018          & ARKANSAS      & 5             & CROSS         &  37           & 19800         & 19600         & 186.2        \\\\\n",
       "\t38 & 2018          & ARKANSAS      & 5             & LEE           &  77           & 36000         & 35400         & 168.4        \\\\\n",
       "\t39 & 2018          & ARKANSAS      & 5             & LONOKE        &  85           & 38600         & 38200         & 185.3        \\\\\n",
       "\t40 & 2018          & ARKANSAS      & 5             & MONROE        &  95           & 26900         & 26500         & 173.2        \\\\\n",
       "\t41 & 2018          & ARKANSAS      & 5             & PHILLIPS      & 107           & 32300         & 31800         & 166.7        \\\\\n",
       "\t42 & 2018          & ARKANSAS      & 5             & PRAIRIE       & 117           & 19600         & 19200         & 191.1        \\\\\n",
       "\t43 & 2018          & ARKANSAS      & 5             & SAINT FRANCIS & 123           & 21500         & 21300         & 180.3        \\\\\n",
       "\t44 & 2018          & ARKANSAS      & 5             & WOODRUFF      & 147           & 22200         & 21900         & 188.1        \\\\\n",
       "\t45 & 2018          & ARKANSAS      & 5             & CLAY          &  21           & 29400         & 28700         & 189.7        \\\\\n",
       "\t46 & 2018          & ARKANSAS      & 5             & CRAIGHEAD     &  31           & 34100         & 33000         & 196.4        \\\\\n",
       "\t47 & 2018          & ARKANSAS      & 5             & GREENE        &  55           & 16200         & 15800         & 176.3        \\\\\n",
       "\t48 & 2018          & ARKANSAS      & 5             & JACKSON       &  67           & 15100         & 14800         & 177.0        \\\\\n",
       "\t49 & 2018          & ARKANSAS      & 5             & MISSISSIPPI   &  93           & 19700         & 18400         & 200.0        \\\\\n",
       "\t51 & 2018          & ARKANSAS      & 5             & POINSETT      & 111           & 25500         & 24900         & 197.2        \\\\\n",
       "\t52 & 2018          & ARKANSAS      & 5             & RANDOLPH      & 121           &  4300         &  4200         & 176.2        \\\\\n",
       "\t53 & 2018          & ARKANSAS      & 5             & WHITE         & 145           &  7000         &  5900         & 184.7        \\\\\n",
       "\t55 & 2018          & ARKANSAS      & 5             & ASHLEY        &   3           & 27300         & 27100         & 194.5        \\\\\n",
       "\t56 & 2018          & ARKANSAS      & 5             & CHICOT        &  17           & 29200         & 29000         & 181.4        \\\\\n",
       "\t57 & 2018          & ARKANSAS      & 5             & DESHA         &  41           & 26200         & 26000         & 192.3        \\\\\n",
       "\t58 & 2018          & ARKANSAS      & 5             & DREW          &  43           &  8000         &  7900         & 186.1        \\\\\n",
       "\\end{tabular}\n"
      ],
      "text/markdown": [
       "\n",
       "| <!--/--> | YEAR | STATE | STATE_FIPS | COUNTY | COUNTY_FIPS | ACRES_PLANTED | ACRES_HARVESTED | YIELD_BU_ACRE |\n",
       "|---|---|---|---|---|---|---|---|---|\n",
       "| 1 | 2018          | ALABAMA       | 1             | AUTAUGA       |   1           |  1100         |  1000         | 165.0         |\n",
       "| 2 | 2018          | ALABAMA       | 1             | DALLAS        |  47           |  5400         |  5100         | 137.3         |\n",
       "| 3 | 2018          | ALABAMA       | 1             | ELMORE        |  51           |  2200         |  2200         | 170.5         |\n",
       "| 5 | 2018          | ALABAMA       | 1             | PERRY         | 105           |  6400         |  6300         | 145.2         |\n",
       "| 6 | 2018          | ALABAMA       | 1             | BALDWIN       |   3           |  7200         |  7000         | 152.0         |\n",
       "| 7 | 2018          | ALABAMA       | 1             | CONECUH       |  35           |   900         |   800         | 150.0         |\n",
       "| 8 | 2018          | ALABAMA       | 1             | ESCAMBIA      |  53           |  2900         |  2850         | 176.8         |\n",
       "| 9 | 2018          | ALABAMA       | 1             | MONROE        |  99           |  1700         |  1650         | 157.6         |\n",
       "| 11 | 2018          | ALABAMA       | 1             | CALHOUN       |  15           |  1300         |  1300         | 156.2         |\n",
       "| 12 | 2018          | ALABAMA       | 1             | CULLMAN       |  43           |  1500         |  1350         | 181.5         |\n",
       "| 13 | 2018          | ALABAMA       | 1             | DE KALB       |  49           | 11400         | 11300         | 168.3         |\n",
       "| 14 | 2018          | ALABAMA       | 1             | JACKSON       |  71           | 22000         | 21800         | 155.3         |\n",
       "| 16 | 2018          | ALABAMA       | 1             | COLBERT       |  33           | 17000         | 16800         | 153.6         |\n",
       "| 17 | 2018          | ALABAMA       | 1             | FRANKLIN      |  59           |  2000         |  1900         | 100.0         |\n",
       "| 18 | 2018          | ALABAMA       | 1             | LAUDERDALE    |  77           | 19400         | 19000         | 165.3         |\n",
       "| 19 | 2018          | ALABAMA       | 1             | LAWRENCE      |  79           | 26000         | 26000         | 176.9         |\n",
       "| 20 | 2018          | ALABAMA       | 1             | LIMESTONE     |  83           | 16500         | 16200         | 183.2         |\n",
       "| 21 | 2018          | ALABAMA       | 1             | MADISON       |  89           | 25100         | 24000         | 159.8         |\n",
       "| 22 | 2018          | ALABAMA       | 1             | MORGAN        | 103           |  4800         |  3900         | 176.9         |\n",
       "| 24 | 2018          | ALABAMA       | 1             | FAYETTE       |  57           |   700         |   700         | 124.3         |\n",
       "| 26 | 2018          | ALABAMA       | 1             | RANDOLPH      | 111           |  1100         |  1000         | 101.5         |\n",
       "| 27 | 2018          | ALABAMA       | 1             | TALLADEGA     | 121           |  6400         |  6250         | 139.2         |\n",
       "| 28 | 2018          | ALABAMA       | 1             | TUSCALOOSA    | 125           |  1500         |  1500         | 124.7         |\n",
       "| 29 | 2018          | ALABAMA       | 1             | WALKER        | 127           |   700         |   690         | 123.2         |\n",
       "| 30 | 2018          | ALABAMA       | 1             | CRENSHAW      |  41           |  2000         |  1900         | 113.2         |\n",
       "| 31 | 2018          | ALABAMA       | 1             | GENEVA        |  61           |  6600         |  6300         | 109.5         |\n",
       "| 32 | 2018          | ALABAMA       | 1             | HENRY         |  67           |  3500         |  3450         | 162.3         |\n",
       "| 33 | 2018          | ALABAMA       | 1             | HOUSTON       |  69           |  2300         |  2000         | 100.0         |\n",
       "| 35 | 2018          | ARKANSAS      | 5             | ARKANSAS      |   1           | 44900         | 44500         | 187.0         |\n",
       "| 36 | 2018          | ARKANSAS      | 5             | CRITTENDEN    |  35           | 16200         | 16100         | 175.2         |\n",
       "| 37 | 2018          | ARKANSAS      | 5             | CROSS         |  37           | 19800         | 19600         | 186.2         |\n",
       "| 38 | 2018          | ARKANSAS      | 5             | LEE           |  77           | 36000         | 35400         | 168.4         |\n",
       "| 39 | 2018          | ARKANSAS      | 5             | LONOKE        |  85           | 38600         | 38200         | 185.3         |\n",
       "| 40 | 2018          | ARKANSAS      | 5             | MONROE        |  95           | 26900         | 26500         | 173.2         |\n",
       "| 41 | 2018          | ARKANSAS      | 5             | PHILLIPS      | 107           | 32300         | 31800         | 166.7         |\n",
       "| 42 | 2018          | ARKANSAS      | 5             | PRAIRIE       | 117           | 19600         | 19200         | 191.1         |\n",
       "| 43 | 2018          | ARKANSAS      | 5             | SAINT FRANCIS | 123           | 21500         | 21300         | 180.3         |\n",
       "| 44 | 2018          | ARKANSAS      | 5             | WOODRUFF      | 147           | 22200         | 21900         | 188.1         |\n",
       "| 45 | 2018          | ARKANSAS      | 5             | CLAY          |  21           | 29400         | 28700         | 189.7         |\n",
       "| 46 | 2018          | ARKANSAS      | 5             | CRAIGHEAD     |  31           | 34100         | 33000         | 196.4         |\n",
       "| 47 | 2018          | ARKANSAS      | 5             | GREENE        |  55           | 16200         | 15800         | 176.3         |\n",
       "| 48 | 2018          | ARKANSAS      | 5             | JACKSON       |  67           | 15100         | 14800         | 177.0         |\n",
       "| 49 | 2018          | ARKANSAS      | 5             | MISSISSIPPI   |  93           | 19700         | 18400         | 200.0         |\n",
       "| 51 | 2018          | ARKANSAS      | 5             | POINSETT      | 111           | 25500         | 24900         | 197.2         |\n",
       "| 52 | 2018          | ARKANSAS      | 5             | RANDOLPH      | 121           |  4300         |  4200         | 176.2         |\n",
       "| 53 | 2018          | ARKANSAS      | 5             | WHITE         | 145           |  7000         |  5900         | 184.7         |\n",
       "| 55 | 2018          | ARKANSAS      | 5             | ASHLEY        |   3           | 27300         | 27100         | 194.5         |\n",
       "| 56 | 2018          | ARKANSAS      | 5             | CHICOT        |  17           | 29200         | 29000         | 181.4         |\n",
       "| 57 | 2018          | ARKANSAS      | 5             | DESHA         |  41           | 26200         | 26000         | 192.3         |\n",
       "| 58 | 2018          | ARKANSAS      | 5             | DREW          |  43           |  8000         |  7900         | 186.1         |\n",
       "\n"
      ],
      "text/plain": [
       "   YEAR STATE    STATE_FIPS COUNTY        COUNTY_FIPS ACRES_PLANTED\n",
       "1  2018 ALABAMA  1          AUTAUGA         1          1100        \n",
       "2  2018 ALABAMA  1          DALLAS         47          5400        \n",
       "3  2018 ALABAMA  1          ELMORE         51          2200        \n",
       "5  2018 ALABAMA  1          PERRY         105          6400        \n",
       "6  2018 ALABAMA  1          BALDWIN         3          7200        \n",
       "7  2018 ALABAMA  1          CONECUH        35           900        \n",
       "8  2018 ALABAMA  1          ESCAMBIA       53          2900        \n",
       "9  2018 ALABAMA  1          MONROE         99          1700        \n",
       "11 2018 ALABAMA  1          CALHOUN        15          1300        \n",
       "12 2018 ALABAMA  1          CULLMAN        43          1500        \n",
       "13 2018 ALABAMA  1          DE KALB        49         11400        \n",
       "14 2018 ALABAMA  1          JACKSON        71         22000        \n",
       "16 2018 ALABAMA  1          COLBERT        33         17000        \n",
       "17 2018 ALABAMA  1          FRANKLIN       59          2000        \n",
       "18 2018 ALABAMA  1          LAUDERDALE     77         19400        \n",
       "19 2018 ALABAMA  1          LAWRENCE       79         26000        \n",
       "20 2018 ALABAMA  1          LIMESTONE      83         16500        \n",
       "21 2018 ALABAMA  1          MADISON        89         25100        \n",
       "22 2018 ALABAMA  1          MORGAN        103          4800        \n",
       "24 2018 ALABAMA  1          FAYETTE        57           700        \n",
       "26 2018 ALABAMA  1          RANDOLPH      111          1100        \n",
       "27 2018 ALABAMA  1          TALLADEGA     121          6400        \n",
       "28 2018 ALABAMA  1          TUSCALOOSA    125          1500        \n",
       "29 2018 ALABAMA  1          WALKER        127           700        \n",
       "30 2018 ALABAMA  1          CRENSHAW       41          2000        \n",
       "31 2018 ALABAMA  1          GENEVA         61          6600        \n",
       "32 2018 ALABAMA  1          HENRY          67          3500        \n",
       "33 2018 ALABAMA  1          HOUSTON        69          2300        \n",
       "35 2018 ARKANSAS 5          ARKANSAS        1         44900        \n",
       "36 2018 ARKANSAS 5          CRITTENDEN     35         16200        \n",
       "37 2018 ARKANSAS 5          CROSS          37         19800        \n",
       "38 2018 ARKANSAS 5          LEE            77         36000        \n",
       "39 2018 ARKANSAS 5          LONOKE         85         38600        \n",
       "40 2018 ARKANSAS 5          MONROE         95         26900        \n",
       "41 2018 ARKANSAS 5          PHILLIPS      107         32300        \n",
       "42 2018 ARKANSAS 5          PRAIRIE       117         19600        \n",
       "43 2018 ARKANSAS 5          SAINT FRANCIS 123         21500        \n",
       "44 2018 ARKANSAS 5          WOODRUFF      147         22200        \n",
       "45 2018 ARKANSAS 5          CLAY           21         29400        \n",
       "46 2018 ARKANSAS 5          CRAIGHEAD      31         34100        \n",
       "47 2018 ARKANSAS 5          GREENE         55         16200        \n",
       "48 2018 ARKANSAS 5          JACKSON        67         15100        \n",
       "49 2018 ARKANSAS 5          MISSISSIPPI    93         19700        \n",
       "51 2018 ARKANSAS 5          POINSETT      111         25500        \n",
       "52 2018 ARKANSAS 5          RANDOLPH      121          4300        \n",
       "53 2018 ARKANSAS 5          WHITE         145          7000        \n",
       "55 2018 ARKANSAS 5          ASHLEY          3         27300        \n",
       "56 2018 ARKANSAS 5          CHICOT         17         29200        \n",
       "57 2018 ARKANSAS 5          DESHA          41         26200        \n",
       "58 2018 ARKANSAS 5          DREW           43          8000        \n",
       "   ACRES_HARVESTED YIELD_BU_ACRE\n",
       "1   1000           165.0        \n",
       "2   5100           137.3        \n",
       "3   2200           170.5        \n",
       "5   6300           145.2        \n",
       "6   7000           152.0        \n",
       "7    800           150.0        \n",
       "8   2850           176.8        \n",
       "9   1650           157.6        \n",
       "11  1300           156.2        \n",
       "12  1350           181.5        \n",
       "13 11300           168.3        \n",
       "14 21800           155.3        \n",
       "16 16800           153.6        \n",
       "17  1900           100.0        \n",
       "18 19000           165.3        \n",
       "19 26000           176.9        \n",
       "20 16200           183.2        \n",
       "21 24000           159.8        \n",
       "22  3900           176.9        \n",
       "24   700           124.3        \n",
       "26  1000           101.5        \n",
       "27  6250           139.2        \n",
       "28  1500           124.7        \n",
       "29   690           123.2        \n",
       "30  1900           113.2        \n",
       "31  6300           109.5        \n",
       "32  3450           162.3        \n",
       "33  2000           100.0        \n",
       "35 44500           187.0        \n",
       "36 16100           175.2        \n",
       "37 19600           186.2        \n",
       "38 35400           168.4        \n",
       "39 38200           185.3        \n",
       "40 26500           173.2        \n",
       "41 31800           166.7        \n",
       "42 19200           191.1        \n",
       "43 21300           180.3        \n",
       "44 21900           188.1        \n",
       "45 28700           189.7        \n",
       "46 33000           196.4        \n",
       "47 15800           176.3        \n",
       "48 14800           177.0        \n",
       "49 18400           200.0        \n",
       "51 24900           197.2        \n",
       "52  4200           176.2        \n",
       "53  5900           184.7        \n",
       "55 27100           194.5        \n",
       "56 29000           181.4        \n",
       "57 26000           192.3        \n",
       "58  7900           186.1        "
      ]
     },
     "metadata": {},
     "output_type": "display_data"
    }
   ],
   "source": [
    "head(corn_grain, 50)"
   ]
  },
  {
   "cell_type": "code",
   "execution_count": 60,
   "metadata": {},
   "outputs": [],
   "source": [
    "write.csv(corn_grain, file = \"./data/corn-grain.csv\")"
   ]
  },
  {
   "cell_type": "code",
   "execution_count": 61,
   "metadata": {},
   "outputs": [
    {
     "data": {
      "text/html": [
       "<ol class=list-inline>\n",
       "\t<li>2018</li>\n",
       "\t<li>2017</li>\n",
       "\t<li>2016</li>\n",
       "\t<li>2015</li>\n",
       "\t<li>2014</li>\n",
       "\t<li>2013</li>\n",
       "\t<li>2012</li>\n",
       "\t<li>2011</li>\n",
       "</ol>\n"
      ],
      "text/latex": [
       "\\begin{enumerate*}\n",
       "\\item 2018\n",
       "\\item 2017\n",
       "\\item 2016\n",
       "\\item 2015\n",
       "\\item 2014\n",
       "\\item 2013\n",
       "\\item 2012\n",
       "\\item 2011\n",
       "\\end{enumerate*}\n"
      ],
      "text/markdown": [
       "1. 2018\n",
       "2. 2017\n",
       "3. 2016\n",
       "4. 2015\n",
       "5. 2014\n",
       "6. 2013\n",
       "7. 2012\n",
       "8. 2011\n",
       "\n",
       "\n"
      ],
      "text/plain": [
       "[1] 2018 2017 2016 2015 2014 2013 2012 2011"
      ]
     },
     "metadata": {},
     "output_type": "display_data"
    }
   ],
   "source": [
    "unique(corn_grain$YEAR)"
   ]
  },
  {
   "cell_type": "code",
   "execution_count": 62,
   "metadata": {},
   "outputs": [],
   "source": [
    "year = 2011"
   ]
  },
  {
   "cell_type": "code",
   "execution_count": 63,
   "metadata": {},
   "outputs": [
    {
     "ename": "ERROR",
     "evalue": "Error in mean(dat): object 'dat' not found\n",
     "output_type": "error",
     "traceback": [
      "Error in mean(dat): object 'dat' not found\nTraceback:\n",
      "1. mean(dat)"
     ]
    }
   ],
   "source": [
    "mean(dat)"
   ]
  },
  {
   "cell_type": "code",
   "execution_count": 64,
   "metadata": {},
   "outputs": [
    {
     "ename": "ERROR",
     "evalue": "Error in eval(expr, envir, enclos): object 'hdat' not found\n",
     "output_type": "error",
     "traceback": [
      "Error in eval(expr, envir, enclos): object 'hdat' not found\nTraceback:\n"
     ]
    }
   ],
   "source": [
    "hdat"
   ]
  },
  {
   "cell_type": "code",
   "execution_count": 65,
   "metadata": {
    "scrolled": false
   },
   "outputs": [
    {
     "data": {
      "image/png": "[encoded data removed]",
      "text/plain": [
       "Plot with title “2011”"
      ]
     },
     "metadata": {},
     "output_type": "display_data"
    }
   ],
   "source": [
    "layout(matrix(1:9, nrow = 9))\n",
    "h = list()\n",
    "par(mar = c(0,0,.5,1))\n",
    "par(mai = c(.1,.5,.2,.1))\n",
    "for(year in unique(corn_grain$YEAR)){\n",
    "    dat = corn_grain$YIELD_BU_ACRE[corn_grain$YEAR == year]\n",
    "    \n",
    "    hist(dat, 20,\n",
    "         xaxt = 'n',  main = year,\n",
    "         lwd = 2,     col = 'yellow',\n",
    "         freq = F,    \n",
    "         ylim = c(0, .02), xlim = c(0, 250),\n",
    "         xaxt = 'n',  yaxt = 'n',\n",
    "         ylab = '', \n",
    "    )\n",
    "    \n",
    "    abline(v = mean(dat), col = 'red', lwd = 3)\n",
    "    abline(h=0, lwd = 2)\n",
    "    if(year == 2011) axis(1, cex.axis = 1.5, lty=1, lwd = 2)\n",
    "}\n",
    "\n"
   ]
  },
  {
   "cell_type": "code",
   "execution_count": 69,
   "metadata": {
    "scrolled": true
   },
   "outputs": [
    {
     "data": {
      "text/html": [
       "<table>\n",
       "<thead><tr><th></th><th scope=col>YEAR</th><th scope=col>STATE</th><th scope=col>STATE_FIPS</th><th scope=col>COUNTY</th><th scope=col>COUNTY_FIPS</th><th scope=col>ACRES_PLANTED</th><th scope=col>ACRES_HARVESTED</th><th scope=col>YIELD_BU_ACRE</th></tr></thead>\n",
       "<tbody>\n",
       "\t<tr><th scope=row>1</th><td>2018   </td><td>ALABAMA</td><td>1      </td><td>AUTAUGA</td><td>  1    </td><td>1100   </td><td>1000   </td><td>165.0  </td></tr>\n",
       "\t<tr><th scope=row>2</th><td>2018   </td><td>ALABAMA</td><td>1      </td><td>DALLAS </td><td> 47    </td><td>5400   </td><td>5100   </td><td>137.3  </td></tr>\n",
       "\t<tr><th scope=row>3</th><td>2018   </td><td>ALABAMA</td><td>1      </td><td>ELMORE </td><td> 51    </td><td>2200   </td><td>2200   </td><td>170.5  </td></tr>\n",
       "\t<tr><th scope=row>5</th><td>2018   </td><td>ALABAMA</td><td>1      </td><td>PERRY  </td><td>105    </td><td>6400   </td><td>6300   </td><td>145.2  </td></tr>\n",
       "\t<tr><th scope=row>6</th><td>2018   </td><td>ALABAMA</td><td>1      </td><td>BALDWIN</td><td>  3    </td><td>7200   </td><td>7000   </td><td>152.0  </td></tr>\n",
       "\t<tr><th scope=row>7</th><td>2018   </td><td>ALABAMA</td><td>1      </td><td>CONECUH</td><td> 35    </td><td> 900   </td><td> 800   </td><td>150.0  </td></tr>\n",
       "</tbody>\n",
       "</table>\n"
      ],
      "text/latex": [
       "\\begin{tabular}{r|llllllll}\n",
       "  & YEAR & STATE & STATE\\_FIPS & COUNTY & COUNTY\\_FIPS & ACRES\\_PLANTED & ACRES\\_HARVESTED & YIELD\\_BU\\_ACRE\\\\\n",
       "\\hline\n",
       "\t1 & 2018    & ALABAMA & 1       & AUTAUGA &   1     & 1100    & 1000    & 165.0  \\\\\n",
       "\t2 & 2018    & ALABAMA & 1       & DALLAS  &  47     & 5400    & 5100    & 137.3  \\\\\n",
       "\t3 & 2018    & ALABAMA & 1       & ELMORE  &  51     & 2200    & 2200    & 170.5  \\\\\n",
       "\t5 & 2018    & ALABAMA & 1       & PERRY   & 105     & 6400    & 6300    & 145.2  \\\\\n",
       "\t6 & 2018    & ALABAMA & 1       & BALDWIN &   3     & 7200    & 7000    & 152.0  \\\\\n",
       "\t7 & 2018    & ALABAMA & 1       & CONECUH &  35     &  900    &  800    & 150.0  \\\\\n",
       "\\end{tabular}\n"
      ],
      "text/markdown": [
       "\n",
       "| <!--/--> | YEAR | STATE | STATE_FIPS | COUNTY | COUNTY_FIPS | ACRES_PLANTED | ACRES_HARVESTED | YIELD_BU_ACRE |\n",
       "|---|---|---|---|---|---|---|---|---|\n",
       "| 1 | 2018    | ALABAMA | 1       | AUTAUGA |   1     | 1100    | 1000    | 165.0   |\n",
       "| 2 | 2018    | ALABAMA | 1       | DALLAS  |  47     | 5400    | 5100    | 137.3   |\n",
       "| 3 | 2018    | ALABAMA | 1       | ELMORE  |  51     | 2200    | 2200    | 170.5   |\n",
       "| 5 | 2018    | ALABAMA | 1       | PERRY   | 105     | 6400    | 6300    | 145.2   |\n",
       "| 6 | 2018    | ALABAMA | 1       | BALDWIN |   3     | 7200    | 7000    | 152.0   |\n",
       "| 7 | 2018    | ALABAMA | 1       | CONECUH |  35     |  900    |  800    | 150.0   |\n",
       "\n"
      ],
      "text/plain": [
       "  YEAR STATE   STATE_FIPS COUNTY  COUNTY_FIPS ACRES_PLANTED ACRES_HARVESTED\n",
       "1 2018 ALABAMA 1          AUTAUGA   1         1100          1000           \n",
       "2 2018 ALABAMA 1          DALLAS   47         5400          5100           \n",
       "3 2018 ALABAMA 1          ELMORE   51         2200          2200           \n",
       "5 2018 ALABAMA 1          PERRY   105         6400          6300           \n",
       "6 2018 ALABAMA 1          BALDWIN   3         7200          7000           \n",
       "7 2018 ALABAMA 1          CONECUH  35          900           800           \n",
       "  YIELD_BU_ACRE\n",
       "1 165.0        \n",
       "2 137.3        \n",
       "3 170.5        \n",
       "5 145.2        \n",
       "6 152.0        \n",
       "7 150.0        "
      ]
     },
     "metadata": {},
     "output_type": "display_data"
    }
   ],
   "source": [
    "head(corn_grain)"
   ]
  },
  {
   "cell_type": "code",
   "execution_count": 70,
   "metadata": {},
   "outputs": [
    {
     "name": "stderr",
     "output_type": "stream",
     "text": [
      "Using YIELD_BU_ACRE as value column: use value.var to override.\n"
     ]
    }
   ],
   "source": [
    "test = dcast(corn_grain, STATE + STATE_FIPS + COUNTY + ACRES_PLANTED + ACRES_HARVESTED + YIELD_BU_ACRE ~ YEAR, na.rm = T)"
   ]
  },
  {
   "cell_type": "code",
   "execution_count": 71,
   "metadata": {},
   "outputs": [
    {
     "ename": "ERROR",
     "evalue": "Error in loadNamespace(name): there is no package called ‘data’\n",
     "output_type": "error",
     "traceback": [
      "Error in loadNamespace(name): there is no package called ‘data’\nTraceback:\n",
      "1. data::airquality",
      "2. getExportedValue(pkg, name)",
      "3. asNamespace(ns)",
      "4. getNamespace(ns)",
      "5. tryCatch(loadNamespace(name), error = function(e) stop(e))",
      "6. tryCatchList(expr, classes, parentenv, handlers)",
      "7. tryCatchOne(expr, names, parentenv, handlers[[1L]])",
      "8. value[[3L]](cond)"
     ]
    }
   ],
   "source": [
    "data::airquality"
   ]
  },
  {
   "cell_type": "code",
   "execution_count": null,
   "metadata": {},
   "outputs": [],
   "source": []
  }
 ],
 "metadata": {
  "kernelspec": {
   "display_name": "Python 3",
   "language": "python",
   "name": "python3"
  },
  "language_info": {
   "codemirror_mode": {
    "name": "ipython",
    "version": 3
   },
   "file_extension": ".py",
   "mimetype": "text/x-python",
   "name": "python",
   "nbconvert_exporter": "python",
   "pygments_lexer": "ipython3",
   "version": "3.7.3"
  }
 },
 "nbformat": 4,
 "nbformat_minor": 2
}
